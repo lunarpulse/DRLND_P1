{
 "cells": [
  {
   "cell_type": "markdown",
   "metadata": {},
   "source": [
    "# Navigation\n",
    "\n",
    "---\n",
    "\n",
    "In this notebook, you will learn how to use the Unity ML-Agents environment for the first project of the [Deep Reinforcement Learning Nanodegree](https://www.udacity.com/course/deep-reinforcement-learning-nanodegree--nd893).\n",
    "\n",
    "### 1. Start the Environment\n",
    "\n",
    "We begin by importing some necessary packages.  If the code cell below returns an error, please revisit the project instructions to double-check that you have installed [Unity ML-Agents](https://github.com/Unity-Technologies/ml-agents/blob/master/docs/Installation.md) and [NumPy](http://www.numpy.org/)."
   ]
  },
  {
   "cell_type": "code",
   "execution_count": 1,
   "metadata": {},
   "outputs": [],
   "source": [
    "from unityagents import UnityEnvironment\n",
    "import numpy as np"
   ]
  },
  {
   "cell_type": "markdown",
   "metadata": {},
   "source": [
    "Next, we will start the environment!  **_Before running the code cell below_**, change the `file_name` parameter to match the location of the Unity environment that you downloaded.\n",
    "\n",
    "- **Mac**: `\"path/to/Banana.app\"`\n",
    "- **Windows** (x86): `\"path/to/Banana_Windows_x86/Banana.exe\"`\n",
    "- **Windows** (x86_64): `\"path/to/Banana_Windows_x86_64/Banana.exe\"`\n",
    "- **Linux** (x86): `\"path/to/Banana_Linux/Banana.x86\"`\n",
    "- **Linux** (x86_64): `\"path/to/Banana_Linux/Banana.x86_64\"`\n",
    "- **Linux** (x86, headless): `\"path/to/Banana_Linux_NoVis/Banana.x86\"`\n",
    "- **Linux** (x86_64, headless): `\"path/to/Banana_Linux_NoVis/Banana.x86_64\"`\n",
    "\n",
    "For instance, if you are using a Mac, then you downloaded `Banana.app`.  If this file is in the same folder as the notebook, then the line below should appear as follows:\n",
    "```\n",
    "env = UnityEnvironment(file_name=\"Banana.app\")\n",
    "```"
   ]
  },
  {
   "cell_type": "code",
   "execution_count": 2,
   "metadata": {},
   "outputs": [
    {
     "name": "stderr",
     "output_type": "stream",
     "text": "INFO:unityagents:\n'Academy' started successfully!\nUnity Academy name: Academy\n        Number of Brains: 1\n        Number of External Brains : 1\n        Lesson number : 0\n        Reset Parameters :\n\t\t\nUnity brain name: BananaBrain\n        Number of Visual Observations (per agent): 0\n        Vector Observation space type: continuous\n        Vector Observation space size (per agent): 37\n        Number of stacked Vector Observation: 1\n        Vector Action space type: discrete\n        Vector Action space size (per agent): 4\n        Vector Action descriptions: , , , \n"
    }
   ],
   "source": [
    "env = UnityEnvironment(file_name=\"./Banana_Linux/Banana.x86_64\")"
   ]
  },
  {
   "cell_type": "markdown",
   "metadata": {},
   "source": [
    "Environments contain **_brains_** which are responsible for deciding the actions of their associated agents. Here we check for the first brain available, and set it as the default brain we will be controlling from Python."
   ]
  },
  {
   "cell_type": "code",
   "execution_count": 3,
   "metadata": {},
   "outputs": [],
   "source": [
    "# get the default brain\n",
    "brain_name = env.brain_names[0]\n",
    "brain = env.brains[brain_name]"
   ]
  },
  {
   "cell_type": "markdown",
   "metadata": {},
   "source": [
    "### 2. Examine the State and Action Spaces\n",
    "\n",
    "The simulation contains a single agent that navigates a large environment.  At each time step, it has four actions at its disposal:\n",
    "- `0` - walk forward \n",
    "- `1` - walk backward\n",
    "- `2` - turn left\n",
    "- `3` - turn right\n",
    "\n",
    "The state space has `37` dimensions and contains the agent's velocity, along with ray-based perception of objects around agent's forward direction.  A reward of `+1` is provided for collecting a yellow banana, and a reward of `-1` is provided for collecting a blue banana. \n",
    "\n",
    "Run the code cell below to print some information about the environment."
   ]
  },
  {
   "cell_type": "code",
   "execution_count": 4,
   "metadata": {},
   "outputs": [
    {
     "name": "stdout",
     "output_type": "stream",
     "text": "Number of agents: 1\nNumber of actions: 4\nStates look like: [1.         0.         0.         0.         0.84408134 0.\n 0.         1.         0.         0.0748472  0.         1.\n 0.         0.         0.25755    1.         0.         0.\n 0.         0.74177343 0.         1.         0.         0.\n 0.25854847 0.         0.         1.         0.         0.09355672\n 0.         1.         0.         0.         0.31969345 0.\n 0.        ]\nStates have length: 37\n"
    }
   ],
   "source": [
    "# reset the environment\n",
    "env_info = env.reset(train_mode=True)[brain_name]\n",
    "\n",
    "# number of agents in the environment\n",
    "print('Number of agents:', len(env_info.agents))\n",
    "\n",
    "# number of actions\n",
    "action_size = brain.vector_action_space_size\n",
    "print('Number of actions:', action_size)\n",
    "\n",
    "# examine the state space \n",
    "state = env_info.vector_observations[0]\n",
    "print('States look like:', state)\n",
    "state_size = len(state)\n",
    "print('States have length:', state_size)"
   ]
  },
  {
   "cell_type": "markdown",
   "metadata": {},
   "source": [
    "### 3. Take Random Actions in the Environment\n",
    "\n",
    "In the next code cell, you will learn how to use the Python API to control the agent and receive feedback from the environment.\n",
    "\n",
    "Once this cell is executed, you will watch the agent's performance, if it selects an action (uniformly) at random with each time step.  A window should pop up that allows you to observe the agent, as it moves through the environment.  \n",
    "\n",
    "Of course, as part of the project, you'll have to change the code so that the agent is able to use its experience to gradually choose better actions when interacting with the environment!"
   ]
  },
  {
   "cell_type": "code",
   "execution_count": 5,
   "metadata": {},
   "outputs": [
    {
     "name": "stdout",
     "output_type": "stream",
     "text": "Score: 1.0\n"
    }
   ],
   "source": [
    "env_info = env.reset(train_mode=False)[brain_name] # reset the environment\n",
    "state = env_info.vector_observations[0]            # get the current state\n",
    "score = 0                                          # initialize the score\n",
    "while True:\n",
    "    action = np.random.randint(action_size)        # select an action\n",
    "    env_info = env.step(action)[brain_name]        # send the action to the environment\n",
    "    next_state = env_info.vector_observations[0]   # get the next state\n",
    "    reward = env_info.rewards[0]                   # get the reward\n",
    "    done = env_info.local_done[0]                  # see if episode has finished\n",
    "    score += reward                                # update the score\n",
    "    state = next_state                             # roll over the state to next time step\n",
    "    if done:                                       # exit loop if episode finished\n",
    "        break\n",
    "    \n",
    "print(\"Score: {}\".format(score))"
   ]
  },
  {
   "cell_type": "markdown",
   "metadata": {},
   "source": [
    "When finished, you can close the environment."
   ]
  },
  {
   "cell_type": "code",
   "execution_count": 6,
   "metadata": {},
   "outputs": [
    {
     "name": "stdout",
     "output_type": "stream",
     "text": "Number of agents: 1\nNumber of actions: 4\nStates look like: [1.         0.         0.         0.         0.71256876 0.\n 0.         1.         0.         0.73509979 0.         0.\n 0.         1.         0.         1.         0.         0.\n 0.         0.31326672 0.         0.         1.         0.\n 0.58369923 0.         0.         0.         1.         0.\n 1.         0.         0.         0.         0.23518428 0.\n 0.        ]\nStates have length: 37\n"
    }
   ],
   "source": [
    "# reset the environment\n",
    "env_info = env.reset(train_mode=True)[brain_name]\n",
    "\n",
    "# number of agents in the environment\n",
    "print('Number of agents:', len(env_info.agents))\n",
    "\n",
    "# number of actions\n",
    "action_size = brain.vector_action_space_size\n",
    "print('Number of actions:', action_size)\n",
    "\n",
    "# examine the state space \n",
    "state = env_info.vector_observations[0]\n",
    "print('States look like:', state)\n",
    "state_size = len(state)\n",
    "print('States have length:', state_size)\n"
   ]
  },
  {
   "cell_type": "markdown",
   "metadata": {},
   "source": [
    "### 4. Training\n",
    "\n",
    "#### 1. Deuling Double Deep Q Network (DDQN)\n",
    "\n",
    "DDQN was implemented as this learning algorithm can directly assess the value of each state without processing the effect of each action. This learning algorithm has characteristics of :\n",
    "\n",
    "![DDQN Architecture](DDQN_arch.png)\n",
    "\n",
    "- Two streams of Networks : State Value  and Advantage of actions\n",
    "- Q value derived by combining those two networks at the end.\n",
    "- using Soft update with $\\tau$: reducing the variance right after the target parameters updated.\n",
    "\n",
    "#### 2. Network Layouts\n",
    "\n",
    "The Network layers implemented as below:\n",
    "```\n",
    "Architecture: Dueling Double DQN\n",
    "DuelingQNetwork(\n",
    "  (fc1): Linear(in_features=37, out_features=64, bias=True)\n",
    "  (fc2): Linear(in_features=64, out_features=64, bias=True)\n",
    "  Value network\n",
    "  (fc3_1): Linear(in_features=64, out_features=32, bias=True)\n",
    "  (fc4_1): Linear(in_features=32, out_features=1, bias=True)\n",
    "  Advantage network\n",
    "  (fc3_2): Linear(in_features=64, out_features=32, bias=True)\n",
    "  (fc4_2): Linear(in_features=32, out_features=4, bias=True)\n",
    ")\n",
    "```\n",
    "\n",
    "A small network was chosen to fit the capacity for the environment. 64 and 64 nodes of fully connected networks are sufficient to learn the possible states and the lower number of nodes starts to struggles learning and scores were oscilated much.\n",
    "\n",
    "#### 3. Hyper-parameters\n",
    "\n",
    "| Parameter Name      | Description           | Value  |\n",
    "| ------------- |:-------------:| -----:|\n",
    "| BUFFER_SIZE      | Size of the replay buffer | 1e5 |\n",
    "| BATCH_SIZE      | Mini-batch size      |   64 |\n",
    "| GAMMA ($\\gamma$) | Discount factor      |   0.99 |\n",
    "| TAU ($\\tau$) | For Soft update of target parameters | 1e-3|\n",
    "| LR| learning rate | 1e-4 |\n",
    "| UPDATE_EVERY| how often to update the network| 4 |\n",
    "\n",
    "#### 4. Experience replay\n",
    "Experience buffer was used to converge the learning faster and reuse the episodes randomly on the go.\n",
    "\n",
    "\n"
   ]
  },
  {
   "cell_type": "code",
   "execution_count": 7,
   "metadata": {},
   "outputs": [],
   "source": [
    "from dqn_agent import Agent\n",
    "from collections import deque\n",
    "import torch\n",
    "import matplotlib.pyplot as plt\n"
   ]
  },
  {
   "cell_type": "code",
   "execution_count": 8,
   "metadata": {},
   "outputs": [],
   "source": [
    "def train(number_of_episodes = 2000, max_timesteps = 1000, e_greedy_start = 1.0, e_greedy_decay=0.985, e_greedy_min = 0.008):\n",
    "    \n",
    "    scores = []                        # list containing scores from each episode\n",
    "    scores_window = deque(maxlen=100)  # last 100 scores\n",
    "    eps = e_greedy_start\n",
    "    \n",
    "    for i_episode in range(1, number_of_episodes):\n",
    "        env_info = env.reset(train_mode=True)[brain_name]# reset the environment\n",
    "        state = env_info.vector_observations[0]            # get the current state\n",
    "        score = 0                                          # initialize the score\n",
    "\n",
    "        for t in range(max_timesteps):\n",
    "            action = agent.act(state, eps)                 # select an action\n",
    "            env_info = env.step(action)[brain_name]        # send the action to the environment\n",
    "            next_state = env_info.vector_observations[0]   # get the next state\n",
    "            reward = env_info.rewards[0]                   # get the reward\n",
    "            done = env_info.local_done[0]                  # see if episode has finished\n",
    "            agent.step(state, action, reward, next_state, done)\n",
    "            score += reward                                # update the score\n",
    "            state = next_state                             # roll over the state to next time step\n",
    "            if done:                                       # exit loop if episode finished\n",
    "                break\n",
    "        scores_window.append(score)       # save most recent score\n",
    "        scores.append(score)              # save most recent score\n",
    "        eps = max(e_greedy_min, e_greedy_decay*eps) # decrease epsilon\n",
    "        \n",
    "        print('\\rEpisode {}\\tAverage Score: {:.2f} eps: {:.2f}'.format(i_episode, np.mean(scores_window), eps), end=\"\")\n",
    "        if i_episode % 100 == 0:\n",
    "            print('\\rEpisode {}\\tAverage Score: {:.2f} eps: {:.2f}'.format(i_episode, np.mean(scores_window), eps))\n",
    "        if np.mean(scores_window)>=13:\n",
    "            print('\\nEnvironment solved in {:d} episodes!\\tAverage Score: {:.2f}'.format(i_episode - 100, np.mean(scores_window)))\n",
    "            torch.save(agent.qnetwork_local.state_dict(), 'checkpoint.pth')\n",
    "            break \n",
    "    return scores"
   ]
  },
  {
   "cell_type": "code",
   "execution_count": 9,
   "metadata": {},
   "outputs": [
    {
     "name": "stdout",
     "output_type": "stream",
     "text": "Architecture: Dueling Double QN\nDuelingQNetwork(\n  (fc1): Linear(in_features=37, out_features=128, bias=True)\n  (fc2): Linear(in_features=128, out_features=64, bias=True)\n  (fc3_1): Linear(in_features=64, out_features=32, bias=True)\n  (fc4_1): Linear(in_features=32, out_features=1, bias=True)\n  (fc3_2): Linear(in_features=64, out_features=32, bias=True)\n  (fc4_2): Linear(in_features=32, out_features=4, bias=True)\n)\n"
    }
   ],
   "source": [
    "agent = Agent(state_size, action_size, seed=0, network=\"Dueling\", stepkey=\"Double\")"
   ]
  },
  {
   "cell_type": "code",
   "execution_count": 10,
   "metadata": {},
   "outputs": [
    {
     "name": "stdout",
     "output_type": "stream",
     "text": "Episode 100\tAverage Score: 0.77 eps: 0.22\nEpisode 200\tAverage Score: 5.30 eps: 0.05\nEpisode 300\tAverage Score: 8.17 eps: 0.01\nEpisode 400\tAverage Score: 10.92 eps: 0.01\nEpisode 442\tAverage Score: 13.00 eps: 0.01\nEnvironment solved in 289 episodes!\tAverage Score: 13.00\n"
    }
   ],
   "source": [
    "scores = train()"
   ]
  },
  {
   "cell_type": "code",
   "execution_count": 11,
   "metadata": {},
   "outputs": [
    {
     "data": {
      "image/png": "[encoded data removed]",
      "image/svg+xml": "<?xml version=\"1.0\" encoding=\"utf-8\" standalone=\"no\"?>\n<!DOCTYPE svg PUBLIC \"-//W3C//DTD SVG 1.1//EN\"\n  \"http://www.w3.org/Graphics/SVG/1.1/DTD/svg11.dtd\">\n<!-- Created with matplotlib (https://matplotlib.org/) -->\n<svg height=\"263.433045pt\" version=\"1.1\" viewBox=\"0 0 382.603125 263.433045\" width=\"382.603125pt\" xmlns=\"http://www.w3.org/2000/svg\" xmlns:xlink=\"http://www.w3.org/1999/xlink\">\n <defs>\n  <style type=\"text/css\">\n*{stroke-linecap:butt;stroke-linejoin:round;}\n  </style>\n </defs>\n <g id=\"figure_1\">\n  <g id=\"patch_1\">\n   <path d=\"M 0 263.433045 \nL 382.603125 263.433045 \nL 382.603125 0 \nL 0 0 \nz\n\" style=\"fill:none;\"/>\n  </g>\n  <g id=\"axes_1\">\n   <g id=\"patch_2\">\n    <path d=\"M 40.603125 225.876795 \nL 375.403125 225.876795 \nL 375.403125 8.436795 \nL 40.603125 8.436795 \nz\n\" style=\"fill:#ffffff;\"/>\n   </g>\n   <g id=\"matplotlib.axis_1\">\n    <g id=\"xtick_1\">\n     <g id=\"line2d_1\">\n      <defs>\n       <path d=\"M 0 0 \nL 0 3.5 \n\" id=\"md2cfaa5448\" style=\"stroke:#000000;stroke-width:0.8;\"/>\n      </defs>\n      <g>\n       <use style=\"stroke:#000000;stroke-width:0.8;\" x=\"55.821307\" xlink:href=\"#md2cfaa5448\" y=\"225.876795\"/>\n      </g>\n     </g>\n     <g id=\"text_1\">\n      <!-- 0 -->\n      <defs>\n       <path d=\"M 31.78125 66.40625 \nQ 24.171875 66.40625 20.328125 58.90625 \nQ 16.5 51.421875 16.5 36.375 \nQ 16.5 21.390625 20.328125 13.890625 \nQ 24.171875 6.390625 31.78125 6.390625 \nQ 39.453125 6.390625 43.28125 13.890625 \nQ 47.125 21.390625 47.125 36.375 \nQ 47.125 51.421875 43.28125 58.90625 \nQ 39.453125 66.40625 31.78125 66.40625 \nz\nM 31.78125 74.21875 \nQ 44.046875 74.21875 50.515625 64.515625 \nQ 56.984375 54.828125 56.984375 36.375 \nQ 56.984375 17.96875 50.515625 8.265625 \nQ 44.046875 -1.421875 31.78125 -1.421875 \nQ 19.53125 -1.421875 13.0625 8.265625 \nQ 6.59375 17.96875 6.59375 36.375 \nQ 6.59375 54.828125 13.0625 64.515625 \nQ 19.53125 74.21875 31.78125 74.21875 \nz\n\" id=\"DejaVuSans-48\"/>\n      </defs>\n      <g transform=\"translate(52.640057 240.475232)scale(0.1 -0.1)\">\n       <use xlink:href=\"#DejaVuSans-48\"/>\n      </g>\n     </g>\n    </g>\n    <g id=\"xtick_2\">\n     <g id=\"line2d_2\">\n      <g>\n       <use style=\"stroke:#000000;stroke-width:0.8;\" x=\"124.838004\" xlink:href=\"#md2cfaa5448\" y=\"225.876795\"/>\n      </g>\n     </g>\n     <g id=\"text_2\">\n      <!-- 100 -->\n      <defs>\n       <path d=\"M 12.40625 8.296875 \nL 28.515625 8.296875 \nL 28.515625 63.921875 \nL 10.984375 60.40625 \nL 10.984375 69.390625 \nL 28.421875 72.90625 \nL 38.28125 72.90625 \nL 38.28125 8.296875 \nL 54.390625 8.296875 \nL 54.390625 0 \nL 12.40625 0 \nz\n\" id=\"DejaVuSans-49\"/>\n      </defs>\n      <g transform=\"translate(115.294254 240.475232)scale(0.1 -0.1)\">\n       <use xlink:href=\"#DejaVuSans-49\"/>\n       <use x=\"63.623047\" xlink:href=\"#DejaVuSans-48\"/>\n       <use x=\"127.246094\" xlink:href=\"#DejaVuSans-48\"/>\n      </g>\n     </g>\n    </g>\n    <g id=\"xtick_3\">\n     <g id=\"line2d_3\">\n      <g>\n       <use style=\"stroke:#000000;stroke-width:0.8;\" x=\"193.854702\" xlink:href=\"#md2cfaa5448\" y=\"225.876795\"/>\n      </g>\n     </g>\n     <g id=\"text_3\">\n      <!-- 200 -->\n      <defs>\n       <path d=\"M 19.1875 8.296875 \nL 53.609375 8.296875 \nL 53.609375 0 \nL 7.328125 0 \nL 7.328125 8.296875 \nQ 12.9375 14.109375 22.625 23.890625 \nQ 32.328125 33.6875 34.8125 36.53125 \nQ 39.546875 41.84375 41.421875 45.53125 \nQ 43.3125 49.21875 43.3125 52.78125 \nQ 43.3125 58.59375 39.234375 62.25 \nQ 35.15625 65.921875 28.609375 65.921875 \nQ 23.96875 65.921875 18.8125 64.3125 \nQ 13.671875 62.703125 7.8125 59.421875 \nL 7.8125 69.390625 \nQ 13.765625 71.78125 18.9375 73 \nQ 24.125 74.21875 28.421875 74.21875 \nQ 39.75 74.21875 46.484375 68.546875 \nQ 53.21875 62.890625 53.21875 53.421875 \nQ 53.21875 48.921875 51.53125 44.890625 \nQ 49.859375 40.875 45.40625 35.40625 \nQ 44.1875 33.984375 37.640625 27.21875 \nQ 31.109375 20.453125 19.1875 8.296875 \nz\n\" id=\"DejaVuSans-50\"/>\n      </defs>\n      <g transform=\"translate(184.310952 240.475232)scale(0.1 -0.1)\">\n       <use xlink:href=\"#DejaVuSans-50\"/>\n       <use x=\"63.623047\" xlink:href=\"#DejaVuSans-48\"/>\n       <use x=\"127.246094\" xlink:href=\"#DejaVuSans-48\"/>\n      </g>\n     </g>\n    </g>\n    <g id=\"xtick_4\">\n     <g id=\"line2d_4\">\n      <g>\n       <use style=\"stroke:#000000;stroke-width:0.8;\" x=\"262.8714\" xlink:href=\"#md2cfaa5448\" y=\"225.876795\"/>\n      </g>\n     </g>\n     <g id=\"text_4\">\n      <!-- 300 -->\n      <defs>\n       <path d=\"M 40.578125 39.3125 \nQ 47.65625 37.796875 51.625 33 \nQ 55.609375 28.21875 55.609375 21.1875 \nQ 55.609375 10.40625 48.1875 4.484375 \nQ 40.765625 -1.421875 27.09375 -1.421875 \nQ 22.515625 -1.421875 17.65625 -0.515625 \nQ 12.796875 0.390625 7.625 2.203125 \nL 7.625 11.71875 \nQ 11.71875 9.328125 16.59375 8.109375 \nQ 21.484375 6.890625 26.8125 6.890625 \nQ 36.078125 6.890625 40.9375 10.546875 \nQ 45.796875 14.203125 45.796875 21.1875 \nQ 45.796875 27.640625 41.28125 31.265625 \nQ 36.765625 34.90625 28.71875 34.90625 \nL 20.21875 34.90625 \nL 20.21875 43.015625 \nL 29.109375 43.015625 \nQ 36.375 43.015625 40.234375 45.921875 \nQ 44.09375 48.828125 44.09375 54.296875 \nQ 44.09375 59.90625 40.109375 62.90625 \nQ 36.140625 65.921875 28.71875 65.921875 \nQ 24.65625 65.921875 20.015625 65.03125 \nQ 15.375 64.15625 9.8125 62.3125 \nL 9.8125 71.09375 \nQ 15.4375 72.65625 20.34375 73.4375 \nQ 25.25 74.21875 29.59375 74.21875 \nQ 40.828125 74.21875 47.359375 69.109375 \nQ 53.90625 64.015625 53.90625 55.328125 \nQ 53.90625 49.265625 50.4375 45.09375 \nQ 46.96875 40.921875 40.578125 39.3125 \nz\n\" id=\"DejaVuSans-51\"/>\n      </defs>\n      <g transform=\"translate(253.32765 240.475232)scale(0.1 -0.1)\">\n       <use xlink:href=\"#DejaVuSans-51\"/>\n       <use x=\"63.623047\" xlink:href=\"#DejaVuSans-48\"/>\n       <use x=\"127.246094\" xlink:href=\"#DejaVuSans-48\"/>\n      </g>\n     </g>\n    </g>\n    <g id=\"xtick_5\">\n     <g id=\"line2d_5\">\n      <g>\n       <use style=\"stroke:#000000;stroke-width:0.8;\" x=\"331.888097\" xlink:href=\"#md2cfaa5448\" y=\"225.876795\"/>\n      </g>\n     </g>\n     <g id=\"text_5\">\n      <!-- 400 -->\n      <defs>\n       <path d=\"M 37.796875 64.3125 \nL 12.890625 25.390625 \nL 37.796875 25.390625 \nz\nM 35.203125 72.90625 \nL 47.609375 72.90625 \nL 47.609375 25.390625 \nL 58.015625 25.390625 \nL 58.015625 17.1875 \nL 47.609375 17.1875 \nL 47.609375 0 \nL 37.796875 0 \nL 37.796875 17.1875 \nL 4.890625 17.1875 \nL 4.890625 26.703125 \nz\n\" id=\"DejaVuSans-52\"/>\n      </defs>\n      <g transform=\"translate(322.344347 240.475232)scale(0.1 -0.1)\">\n       <use xlink:href=\"#DejaVuSans-52\"/>\n       <use x=\"63.623047\" xlink:href=\"#DejaVuSans-48\"/>\n       <use x=\"127.246094\" xlink:href=\"#DejaVuSans-48\"/>\n      </g>\n     </g>\n    </g>\n    <g id=\"text_6\">\n     <!-- Episodes -->\n     <defs>\n      <path d=\"M 9.8125 72.90625 \nL 55.90625 72.90625 \nL 55.90625 64.59375 \nL 19.671875 64.59375 \nL 19.671875 43.015625 \nL 54.390625 43.015625 \nL 54.390625 34.71875 \nL 19.671875 34.71875 \nL 19.671875 8.296875 \nL 56.78125 8.296875 \nL 56.78125 0 \nL 9.8125 0 \nz\n\" id=\"DejaVuSans-69\"/>\n      <path d=\"M 18.109375 8.203125 \nL 18.109375 -20.796875 \nL 9.078125 -20.796875 \nL 9.078125 54.6875 \nL 18.109375 54.6875 \nL 18.109375 46.390625 \nQ 20.953125 51.265625 25.265625 53.625 \nQ 29.59375 56 35.59375 56 \nQ 45.5625 56 51.78125 48.09375 \nQ 58.015625 40.1875 58.015625 27.296875 \nQ 58.015625 14.40625 51.78125 6.484375 \nQ 45.5625 -1.421875 35.59375 -1.421875 \nQ 29.59375 -1.421875 25.265625 0.953125 \nQ 20.953125 3.328125 18.109375 8.203125 \nz\nM 48.6875 27.296875 \nQ 48.6875 37.203125 44.609375 42.84375 \nQ 40.53125 48.484375 33.40625 48.484375 \nQ 26.265625 48.484375 22.1875 42.84375 \nQ 18.109375 37.203125 18.109375 27.296875 \nQ 18.109375 17.390625 22.1875 11.75 \nQ 26.265625 6.109375 33.40625 6.109375 \nQ 40.53125 6.109375 44.609375 11.75 \nQ 48.6875 17.390625 48.6875 27.296875 \nz\n\" id=\"DejaVuSans-112\"/>\n      <path d=\"M 9.421875 54.6875 \nL 18.40625 54.6875 \nL 18.40625 0 \nL 9.421875 0 \nz\nM 9.421875 75.984375 \nL 18.40625 75.984375 \nL 18.40625 64.59375 \nL 9.421875 64.59375 \nz\n\" id=\"DejaVuSans-105\"/>\n      <path d=\"M 44.28125 53.078125 \nL 44.28125 44.578125 \nQ 40.484375 46.53125 36.375 47.5 \nQ 32.28125 48.484375 27.875 48.484375 \nQ 21.1875 48.484375 17.84375 46.4375 \nQ 14.5 44.390625 14.5 40.28125 \nQ 14.5 37.15625 16.890625 35.375 \nQ 19.28125 33.59375 26.515625 31.984375 \nL 29.59375 31.296875 \nQ 39.15625 29.25 43.1875 25.515625 \nQ 47.21875 21.78125 47.21875 15.09375 \nQ 47.21875 7.46875 41.1875 3.015625 \nQ 35.15625 -1.421875 24.609375 -1.421875 \nQ 20.21875 -1.421875 15.453125 -0.5625 \nQ 10.6875 0.296875 5.421875 2 \nL 5.421875 11.28125 \nQ 10.40625 8.6875 15.234375 7.390625 \nQ 20.0625 6.109375 24.8125 6.109375 \nQ 31.15625 6.109375 34.5625 8.28125 \nQ 37.984375 10.453125 37.984375 14.40625 \nQ 37.984375 18.0625 35.515625 20.015625 \nQ 33.0625 21.96875 24.703125 23.78125 \nL 21.578125 24.515625 \nQ 13.234375 26.265625 9.515625 29.90625 \nQ 5.8125 33.546875 5.8125 39.890625 \nQ 5.8125 47.609375 11.28125 51.796875 \nQ 16.75 56 26.8125 56 \nQ 31.78125 56 36.171875 55.265625 \nQ 40.578125 54.546875 44.28125 53.078125 \nz\n\" id=\"DejaVuSans-115\"/>\n      <path d=\"M 30.609375 48.390625 \nQ 23.390625 48.390625 19.1875 42.75 \nQ 14.984375 37.109375 14.984375 27.296875 \nQ 14.984375 17.484375 19.15625 11.84375 \nQ 23.34375 6.203125 30.609375 6.203125 \nQ 37.796875 6.203125 41.984375 11.859375 \nQ 46.1875 17.53125 46.1875 27.296875 \nQ 46.1875 37.015625 41.984375 42.703125 \nQ 37.796875 48.390625 30.609375 48.390625 \nz\nM 30.609375 56 \nQ 42.328125 56 49.015625 48.375 \nQ 55.71875 40.765625 55.71875 27.296875 \nQ 55.71875 13.875 49.015625 6.21875 \nQ 42.328125 -1.421875 30.609375 -1.421875 \nQ 18.84375 -1.421875 12.171875 6.21875 \nQ 5.515625 13.875 5.515625 27.296875 \nQ 5.515625 40.765625 12.171875 48.375 \nQ 18.84375 56 30.609375 56 \nz\n\" id=\"DejaVuSans-111\"/>\n      <path d=\"M 45.40625 46.390625 \nL 45.40625 75.984375 \nL 54.390625 75.984375 \nL 54.390625 0 \nL 45.40625 0 \nL 45.40625 8.203125 \nQ 42.578125 3.328125 38.25 0.953125 \nQ 33.9375 -1.421875 27.875 -1.421875 \nQ 17.96875 -1.421875 11.734375 6.484375 \nQ 5.515625 14.40625 5.515625 27.296875 \nQ 5.515625 40.1875 11.734375 48.09375 \nQ 17.96875 56 27.875 56 \nQ 33.9375 56 38.25 53.625 \nQ 42.578125 51.265625 45.40625 46.390625 \nz\nM 14.796875 27.296875 \nQ 14.796875 17.390625 18.875 11.75 \nQ 22.953125 6.109375 30.078125 6.109375 \nQ 37.203125 6.109375 41.296875 11.75 \nQ 45.40625 17.390625 45.40625 27.296875 \nQ 45.40625 37.203125 41.296875 42.84375 \nQ 37.203125 48.484375 30.078125 48.484375 \nQ 22.953125 48.484375 18.875 42.84375 \nQ 14.796875 37.203125 14.796875 27.296875 \nz\n\" id=\"DejaVuSans-100\"/>\n      <path d=\"M 56.203125 29.59375 \nL 56.203125 25.203125 \nL 14.890625 25.203125 \nQ 15.484375 15.921875 20.484375 11.0625 \nQ 25.484375 6.203125 34.421875 6.203125 \nQ 39.59375 6.203125 44.453125 7.46875 \nQ 49.3125 8.734375 54.109375 11.28125 \nL 54.109375 2.78125 \nQ 49.265625 0.734375 44.1875 -0.34375 \nQ 39.109375 -1.421875 33.890625 -1.421875 \nQ 20.796875 -1.421875 13.15625 6.1875 \nQ 5.515625 13.8125 5.515625 26.8125 \nQ 5.515625 40.234375 12.765625 48.109375 \nQ 20.015625 56 32.328125 56 \nQ 43.359375 56 49.78125 48.890625 \nQ 56.203125 41.796875 56.203125 29.59375 \nz\nM 47.21875 32.234375 \nQ 47.125 39.59375 43.09375 43.984375 \nQ 39.0625 48.390625 32.421875 48.390625 \nQ 24.90625 48.390625 20.390625 44.140625 \nQ 15.875 39.890625 15.1875 32.171875 \nz\n\" id=\"DejaVuSans-101\"/>\n     </defs>\n     <g transform=\"translate(185.760937 254.153357)scale(0.1 -0.1)\">\n      <use xlink:href=\"#DejaVuSans-69\"/>\n      <use x=\"63.183594\" xlink:href=\"#DejaVuSans-112\"/>\n      <use x=\"126.660156\" xlink:href=\"#DejaVuSans-105\"/>\n      <use x=\"154.443359\" xlink:href=\"#DejaVuSans-115\"/>\n      <use x=\"206.542969\" xlink:href=\"#DejaVuSans-111\"/>\n      <use x=\"267.724609\" xlink:href=\"#DejaVuSans-100\"/>\n      <use x=\"331.201172\" xlink:href=\"#DejaVuSans-101\"/>\n      <use x=\"392.724609\" xlink:href=\"#DejaVuSans-115\"/>\n     </g>\n    </g>\n   </g>\n   <g id=\"matplotlib.axis_2\">\n    <g id=\"ytick_1\">\n     <g id=\"line2d_6\">\n      <defs>\n       <path d=\"M 0 0 \nL -3.5 0 \n\" id=\"m834af3df08\" style=\"stroke:#000000;stroke-width:0.8;\"/>\n      </defs>\n      <g>\n       <use style=\"stroke:#000000;stroke-width:0.8;\" x=\"40.603125\" xlink:href=\"#m834af3df08\" y=\"194.029522\"/>\n      </g>\n     </g>\n     <g id=\"text_7\">\n      <!-- 0 -->\n      <g transform=\"translate(27.240625 197.828741)scale(0.1 -0.1)\">\n       <use xlink:href=\"#DejaVuSans-48\"/>\n      </g>\n     </g>\n    </g>\n    <g id=\"ytick_2\">\n     <g id=\"line2d_7\">\n      <g>\n       <use style=\"stroke:#000000;stroke-width:0.8;\" x=\"40.603125\" xlink:href=\"#m834af3df08\" y=\"157.423461\"/>\n      </g>\n     </g>\n     <g id=\"text_8\">\n      <!-- 5 -->\n      <defs>\n       <path d=\"M 10.796875 72.90625 \nL 49.515625 72.90625 \nL 49.515625 64.59375 \nL 19.828125 64.59375 \nL 19.828125 46.734375 \nQ 21.96875 47.46875 24.109375 47.828125 \nQ 26.265625 48.1875 28.421875 48.1875 \nQ 40.625 48.1875 47.75 41.5 \nQ 54.890625 34.8125 54.890625 23.390625 \nQ 54.890625 11.625 47.5625 5.09375 \nQ 40.234375 -1.421875 26.90625 -1.421875 \nQ 22.3125 -1.421875 17.546875 -0.640625 \nQ 12.796875 0.140625 7.71875 1.703125 \nL 7.71875 11.625 \nQ 12.109375 9.234375 16.796875 8.0625 \nQ 21.484375 6.890625 26.703125 6.890625 \nQ 35.15625 6.890625 40.078125 11.328125 \nQ 45.015625 15.765625 45.015625 23.390625 \nQ 45.015625 31 40.078125 35.4375 \nQ 35.15625 39.890625 26.703125 39.890625 \nQ 22.75 39.890625 18.8125 39.015625 \nQ 14.890625 38.140625 10.796875 36.28125 \nz\n\" id=\"DejaVuSans-53\"/>\n      </defs>\n      <g transform=\"translate(27.240625 161.22268)scale(0.1 -0.1)\">\n       <use xlink:href=\"#DejaVuSans-53\"/>\n      </g>\n     </g>\n    </g>\n    <g id=\"ytick_3\">\n     <g id=\"line2d_8\">\n      <g>\n       <use style=\"stroke:#000000;stroke-width:0.8;\" x=\"40.603125\" xlink:href=\"#m834af3df08\" y=\"120.817401\"/>\n      </g>\n     </g>\n     <g id=\"text_9\">\n      <!-- 10 -->\n      <g transform=\"translate(20.878125 124.616619)scale(0.1 -0.1)\">\n       <use xlink:href=\"#DejaVuSans-49\"/>\n       <use x=\"63.623047\" xlink:href=\"#DejaVuSans-48\"/>\n      </g>\n     </g>\n    </g>\n    <g id=\"ytick_4\">\n     <g id=\"line2d_9\">\n      <g>\n       <use style=\"stroke:#000000;stroke-width:0.8;\" x=\"40.603125\" xlink:href=\"#m834af3df08\" y=\"84.21134\"/>\n      </g>\n     </g>\n     <g id=\"text_10\">\n      <!-- 15 -->\n      <g transform=\"translate(20.878125 88.010559)scale(0.1 -0.1)\">\n       <use xlink:href=\"#DejaVuSans-49\"/>\n       <use x=\"63.623047\" xlink:href=\"#DejaVuSans-53\"/>\n      </g>\n     </g>\n    </g>\n    <g id=\"ytick_5\">\n     <g id=\"line2d_10\">\n      <g>\n       <use style=\"stroke:#000000;stroke-width:0.8;\" x=\"40.603125\" xlink:href=\"#m834af3df08\" y=\"47.605279\"/>\n      </g>\n     </g>\n     <g id=\"text_11\">\n      <!-- 20 -->\n      <g transform=\"translate(20.878125 51.404498)scale(0.1 -0.1)\">\n       <use xlink:href=\"#DejaVuSans-50\"/>\n       <use x=\"63.623047\" xlink:href=\"#DejaVuSans-48\"/>\n      </g>\n     </g>\n    </g>\n    <g id=\"ytick_6\">\n     <g id=\"line2d_11\">\n      <g>\n       <use style=\"stroke:#000000;stroke-width:0.8;\" x=\"40.603125\" xlink:href=\"#m834af3df08\" y=\"10.999219\"/>\n      </g>\n     </g>\n     <g id=\"text_12\">\n      <!-- 25 -->\n      <g transform=\"translate(20.878125 14.798437)scale(0.1 -0.1)\">\n       <use xlink:href=\"#DejaVuSans-50\"/>\n       <use x=\"63.623047\" xlink:href=\"#DejaVuSans-53\"/>\n      </g>\n     </g>\n    </g>\n    <g id=\"text_13\">\n     <!-- Score -->\n     <defs>\n      <path d=\"M 53.515625 70.515625 \nL 53.515625 60.890625 \nQ 47.90625 63.578125 42.921875 64.890625 \nQ 37.9375 66.21875 33.296875 66.21875 \nQ 25.25 66.21875 20.875 63.09375 \nQ 16.5 59.96875 16.5 54.203125 \nQ 16.5 49.359375 19.40625 46.890625 \nQ 22.3125 44.4375 30.421875 42.921875 \nL 36.375 41.703125 \nQ 47.40625 39.59375 52.65625 34.296875 \nQ 57.90625 29 57.90625 20.125 \nQ 57.90625 9.515625 50.796875 4.046875 \nQ 43.703125 -1.421875 29.984375 -1.421875 \nQ 24.8125 -1.421875 18.96875 -0.25 \nQ 13.140625 0.921875 6.890625 3.21875 \nL 6.890625 13.375 \nQ 12.890625 10.015625 18.65625 8.296875 \nQ 24.421875 6.59375 29.984375 6.59375 \nQ 38.421875 6.59375 43.015625 9.90625 \nQ 47.609375 13.234375 47.609375 19.390625 \nQ 47.609375 24.75 44.3125 27.78125 \nQ 41.015625 30.8125 33.5 32.328125 \nL 27.484375 33.5 \nQ 16.453125 35.6875 11.515625 40.375 \nQ 6.59375 45.0625 6.59375 53.421875 \nQ 6.59375 63.09375 13.40625 68.65625 \nQ 20.21875 74.21875 32.171875 74.21875 \nQ 37.3125 74.21875 42.625 73.28125 \nQ 47.953125 72.359375 53.515625 70.515625 \nz\n\" id=\"DejaVuSans-83\"/>\n      <path d=\"M 48.78125 52.59375 \nL 48.78125 44.1875 \nQ 44.96875 46.296875 41.140625 47.34375 \nQ 37.3125 48.390625 33.40625 48.390625 \nQ 24.65625 48.390625 19.8125 42.84375 \nQ 14.984375 37.3125 14.984375 27.296875 \nQ 14.984375 17.28125 19.8125 11.734375 \nQ 24.65625 6.203125 33.40625 6.203125 \nQ 37.3125 6.203125 41.140625 7.25 \nQ 44.96875 8.296875 48.78125 10.40625 \nL 48.78125 2.09375 \nQ 45.015625 0.34375 40.984375 -0.53125 \nQ 36.96875 -1.421875 32.421875 -1.421875 \nQ 20.0625 -1.421875 12.78125 6.34375 \nQ 5.515625 14.109375 5.515625 27.296875 \nQ 5.515625 40.671875 12.859375 48.328125 \nQ 20.21875 56 33.015625 56 \nQ 37.15625 56 41.109375 55.140625 \nQ 45.0625 54.296875 48.78125 52.59375 \nz\n\" id=\"DejaVuSans-99\"/>\n      <path d=\"M 41.109375 46.296875 \nQ 39.59375 47.171875 37.8125 47.578125 \nQ 36.03125 48 33.890625 48 \nQ 26.265625 48 22.1875 43.046875 \nQ 18.109375 38.09375 18.109375 28.8125 \nL 18.109375 0 \nL 9.078125 0 \nL 9.078125 54.6875 \nL 18.109375 54.6875 \nL 18.109375 46.1875 \nQ 20.953125 51.171875 25.484375 53.578125 \nQ 30.03125 56 36.53125 56 \nQ 37.453125 56 38.578125 55.875 \nQ 39.703125 55.765625 41.0625 55.515625 \nz\n\" id=\"DejaVuSans-114\"/>\n     </defs>\n     <g transform=\"translate(14.798438 131.270076)rotate(-90)scale(0.1 -0.1)\">\n      <use xlink:href=\"#DejaVuSans-83\"/>\n      <use x=\"63.476562\" xlink:href=\"#DejaVuSans-99\"/>\n      <use x=\"118.457031\" xlink:href=\"#DejaVuSans-111\"/>\n      <use x=\"179.638672\" xlink:href=\"#DejaVuSans-114\"/>\n      <use x=\"220.720703\" xlink:href=\"#DejaVuSans-101\"/>\n     </g>\n    </g>\n   </g>\n   <g id=\"line2d_12\">\n    <path clip-path=\"url(#pd9000294fe)\" d=\"M 55.821307 194.029522 \nL 56.511474 201.350734 \nL 57.201641 201.350734 \nL 57.891808 194.029522 \nL 58.581975 194.029522 \nL 59.272142 179.387098 \nL 59.962309 208.671946 \nL 60.652476 186.70831 \nL 61.342643 201.350734 \nL 62.03281 179.387098 \nL 62.722977 179.387098 \nL 63.413144 194.029522 \nL 64.793478 208.671946 \nL 65.483644 194.029522 \nL 66.173811 186.70831 \nL 66.863978 186.70831 \nL 67.554145 201.350734 \nL 68.244312 201.350734 \nL 68.934479 186.70831 \nL 69.624646 201.350734 \nL 70.314813 186.70831 \nL 71.00498 201.350734 \nL 71.695147 194.029522 \nL 72.385314 194.029522 \nL 73.075481 186.70831 \nL 73.765648 186.70831 \nL 74.455815 201.350734 \nL 75.145982 186.70831 \nL 75.836149 201.350734 \nL 76.526316 194.029522 \nL 77.216483 179.387098 \nL 77.90665 194.029522 \nL 78.596817 201.350734 \nL 79.286984 194.029522 \nL 79.977151 201.350734 \nL 80.667318 201.350734 \nL 81.357485 172.065885 \nL 82.047652 215.993158 \nL 82.737819 194.029522 \nL 83.427986 186.70831 \nL 85.498487 208.671946 \nL 86.188654 194.029522 \nL 86.878821 194.029522 \nL 87.568988 201.350734 \nL 88.259155 179.387098 \nL 88.949322 172.065885 \nL 89.639489 194.029522 \nL 91.70999 194.029522 \nL 92.400157 179.387098 \nL 93.090324 194.029522 \nL 93.78049 194.029522 \nL 94.470657 201.350734 \nL 95.160824 186.70831 \nL 97.231325 186.70831 \nL 97.921492 157.423461 \nL 98.611659 157.423461 \nL 99.301826 186.70831 \nL 99.991993 194.029522 \nL 100.68216 194.029522 \nL 101.372327 179.387098 \nL 102.062494 186.70831 \nL 102.752661 186.70831 \nL 103.442828 194.029522 \nL 104.823162 179.387098 \nL 105.513329 179.387098 \nL 106.203496 164.744673 \nL 106.893663 194.029522 \nL 107.58383 179.387098 \nL 108.273997 179.387098 \nL 108.964164 194.029522 \nL 109.654331 172.065885 \nL 110.344498 194.029522 \nL 111.034665 194.029522 \nL 111.724832 179.387098 \nL 113.105166 179.387098 \nL 113.795333 186.70831 \nL 114.4855 172.065885 \nL 115.175667 194.029522 \nL 115.865834 194.029522 \nL 116.556001 172.065885 \nL 117.246168 201.350734 \nL 117.936335 186.70831 \nL 118.626502 150.102249 \nL 119.316669 172.065885 \nL 120.006836 142.781037 \nL 120.697003 179.387098 \nL 121.38717 194.029522 \nL 122.077337 194.029522 \nL 122.767503 179.387098 \nL 123.45767 186.70831 \nL 124.147837 150.102249 \nL 124.838004 194.029522 \nL 125.528171 179.387098 \nL 126.218338 179.387098 \nL 126.908505 186.70831 \nL 127.598672 186.70831 \nL 128.288839 164.744673 \nL 128.979006 172.065885 \nL 129.669173 186.70831 \nL 130.35934 186.70831 \nL 131.739674 172.065885 \nL 132.429841 172.065885 \nL 133.120008 186.70831 \nL 134.500342 157.423461 \nL 135.190509 164.744673 \nL 135.880676 201.350734 \nL 136.570843 135.459825 \nL 137.26101 135.459825 \nL 137.951177 157.423461 \nL 138.641344 157.423461 \nL 139.331511 120.817401 \nL 140.021678 157.423461 \nL 140.711845 142.781037 \nL 141.402012 142.781037 \nL 142.092179 150.102249 \nL 142.782346 186.70831 \nL 143.472513 150.102249 \nL 144.16268 157.423461 \nL 144.852847 150.102249 \nL 145.543014 150.102249 \nL 146.233181 164.744673 \nL 146.923348 150.102249 \nL 147.613515 113.496188 \nL 148.303682 179.387098 \nL 148.993849 172.065885 \nL 149.684016 142.781037 \nL 150.374183 179.387098 \nL 151.754516 179.387098 \nL 152.444683 150.102249 \nL 153.13485 194.029522 \nL 153.825017 84.21134 \nL 154.515184 186.70831 \nL 155.205351 186.70831 \nL 155.895518 150.102249 \nL 156.585685 135.459825 \nL 157.275852 135.459825 \nL 157.966019 150.102249 \nL 158.656186 120.817401 \nL 159.346353 128.138613 \nL 160.03652 164.744673 \nL 160.726687 157.423461 \nL 161.416854 179.387098 \nL 162.107021 157.423461 \nL 162.797188 186.70831 \nL 163.487355 128.138613 \nL 164.177522 172.065885 \nL 164.867689 157.423461 \nL 165.557856 150.102249 \nL 166.248023 150.102249 \nL 166.93819 142.781037 \nL 167.628357 76.890128 \nL 168.318524 186.70831 \nL 169.008691 194.029522 \nL 169.698858 179.387098 \nL 170.389025 179.387098 \nL 171.079192 135.459825 \nL 171.769359 164.744673 \nL 172.459526 157.423461 \nL 173.149693 142.781037 \nL 173.83986 172.065885 \nL 174.530027 179.387098 \nL 175.220194 142.781037 \nL 175.910361 150.102249 \nL 176.600528 172.065885 \nL 177.290695 157.423461 \nL 177.980862 164.744673 \nL 178.671029 157.423461 \nL 179.361196 98.853764 \nL 180.741529 128.138613 \nL 181.431696 128.138613 \nL 182.121863 150.102249 \nL 182.81203 135.459825 \nL 183.502197 142.781037 \nL 184.192364 135.459825 \nL 184.882531 179.387098 \nL 185.572698 157.423461 \nL 186.262865 150.102249 \nL 186.953032 98.853764 \nL 187.643199 120.817401 \nL 188.333366 98.853764 \nL 189.023533 157.423461 \nL 189.7137 164.744673 \nL 190.403867 113.496188 \nL 191.094034 150.102249 \nL 191.784201 179.387098 \nL 192.474368 120.817401 \nL 193.854702 120.817401 \nL 194.544869 157.423461 \nL 195.235036 142.781037 \nL 195.925203 106.174976 \nL 196.61537 135.459825 \nL 197.305537 120.817401 \nL 197.995704 113.496188 \nL 198.685871 54.926491 \nL 199.376038 142.781037 \nL 200.066205 120.817401 \nL 200.756372 128.138613 \nL 201.446539 128.138613 \nL 202.136706 120.817401 \nL 202.826873 172.065885 \nL 203.51704 157.423461 \nL 204.207207 135.459825 \nL 204.897374 142.781037 \nL 205.587541 194.029522 \nL 206.277708 186.70831 \nL 207.658042 142.781037 \nL 208.348208 91.532552 \nL 209.038375 120.817401 \nL 209.728542 135.459825 \nL 210.418709 135.459825 \nL 211.108876 120.817401 \nL 211.799043 91.532552 \nL 212.48921 106.174976 \nL 213.179377 106.174976 \nL 213.869544 157.423461 \nL 214.559711 157.423461 \nL 215.249878 186.70831 \nL 215.940045 179.387098 \nL 216.630212 76.890128 \nL 217.320379 142.781037 \nL 218.010546 113.496188 \nL 218.700713 157.423461 \nL 219.39088 120.817401 \nL 220.081047 172.065885 \nL 220.771214 150.102249 \nL 221.461381 142.781037 \nL 222.151548 128.138613 \nL 222.841715 179.387098 \nL 223.531882 84.21134 \nL 224.222049 150.102249 \nL 224.912216 135.459825 \nL 225.602383 150.102249 \nL 226.29255 150.102249 \nL 226.982717 128.138613 \nL 227.672884 150.102249 \nL 228.363051 150.102249 \nL 229.053218 157.423461 \nL 229.743385 179.387098 \nL 230.433552 120.817401 \nL 231.123719 157.423461 \nL 231.813886 76.890128 \nL 232.504053 179.387098 \nL 233.19422 186.70831 \nL 233.884387 128.138613 \nL 234.574554 54.926491 \nL 235.264721 120.817401 \nL 235.954888 157.423461 \nL 236.645054 113.496188 \nL 237.335221 150.102249 \nL 238.025388 135.459825 \nL 238.715555 135.459825 \nL 239.405722 150.102249 \nL 240.095889 135.459825 \nL 241.476223 164.744673 \nL 242.16639 157.423461 \nL 242.856557 157.423461 \nL 243.546724 172.065885 \nL 244.236891 142.781037 \nL 244.927058 91.532552 \nL 245.617225 113.496188 \nL 246.307392 172.065885 \nL 246.997559 32.962855 \nL 248.377893 157.423461 \nL 249.06806 179.387098 \nL 249.758227 135.459825 \nL 250.448394 157.423461 \nL 251.138561 135.459825 \nL 251.828728 135.459825 \nL 252.518895 164.744673 \nL 253.209062 128.138613 \nL 253.899229 98.853764 \nL 254.589396 113.496188 \nL 255.279563 76.890128 \nL 255.96973 120.817401 \nL 257.350064 120.817401 \nL 258.040231 62.247704 \nL 258.730398 120.817401 \nL 259.420565 157.423461 \nL 260.110732 128.138613 \nL 260.800899 135.459825 \nL 261.491066 113.496188 \nL 262.181233 113.496188 \nL 262.8714 186.70831 \nL 263.561567 150.102249 \nL 264.251734 135.459825 \nL 264.941901 113.496188 \nL 265.632067 113.496188 \nL 266.322234 135.459825 \nL 267.012401 84.21134 \nL 267.702568 157.423461 \nL 268.392735 98.853764 \nL 269.082902 84.21134 \nL 269.773069 98.853764 \nL 270.463236 172.065885 \nL 271.153403 194.029522 \nL 271.84357 172.065885 \nL 272.533737 76.890128 \nL 273.223904 150.102249 \nL 273.914071 186.70831 \nL 274.604238 113.496188 \nL 275.984572 128.138613 \nL 276.674739 164.744673 \nL 277.364906 179.387098 \nL 278.055073 91.532552 \nL 278.74524 98.853764 \nL 279.435407 113.496188 \nL 280.125574 62.247704 \nL 280.815741 128.138613 \nL 281.505908 128.138613 \nL 282.196075 135.459825 \nL 282.886242 150.102249 \nL 283.576409 157.423461 \nL 284.266576 157.423461 \nL 284.956743 98.853764 \nL 285.64691 135.459825 \nL 286.337077 98.853764 \nL 287.027244 135.459825 \nL 287.717411 69.568916 \nL 288.407578 69.568916 \nL 289.097745 172.065885 \nL 289.787912 179.387098 \nL 290.478079 150.102249 \nL 291.168246 157.423461 \nL 291.858413 113.496188 \nL 292.54858 120.817401 \nL 293.238747 62.247704 \nL 293.928913 128.138613 \nL 294.61908 91.532552 \nL 295.309247 128.138613 \nL 295.999414 98.853764 \nL 296.689581 106.174976 \nL 297.379748 179.387098 \nL 298.069915 113.496188 \nL 298.760082 62.247704 \nL 299.450249 91.532552 \nL 300.140416 201.350734 \nL 300.830583 128.138613 \nL 301.52075 69.568916 \nL 302.210917 128.138613 \nL 302.901084 84.21134 \nL 303.591251 62.247704 \nL 304.281418 98.853764 \nL 304.971585 98.853764 \nL 305.661752 164.744673 \nL 306.351919 54.926491 \nL 307.042086 135.459825 \nL 307.732253 69.568916 \nL 308.42242 142.781037 \nL 309.112587 91.532552 \nL 309.802754 135.459825 \nL 310.492921 98.853764 \nL 311.183088 84.21134 \nL 311.873255 113.496188 \nL 312.563422 62.247704 \nL 313.253589 84.21134 \nL 313.943756 91.532552 \nL 314.633923 91.532552 \nL 315.32409 120.817401 \nL 316.014257 120.817401 \nL 316.704424 40.284067 \nL 317.394591 76.890128 \nL 318.084758 62.247704 \nL 318.774925 113.496188 \nL 319.465092 54.926491 \nL 320.155259 120.817401 \nL 320.845426 150.102249 \nL 321.535593 54.926491 \nL 322.22576 98.853764 \nL 323.606093 69.568916 \nL 324.29626 98.853764 \nL 324.986427 164.744673 \nL 325.676594 128.138613 \nL 326.366761 76.890128 \nL 327.056928 120.817401 \nL 327.747095 142.781037 \nL 328.437262 69.568916 \nL 329.127429 98.853764 \nL 329.817596 54.926491 \nL 330.507763 106.174976 \nL 331.19793 84.21134 \nL 331.888097 76.890128 \nL 332.578264 91.532552 \nL 333.268431 91.532552 \nL 333.958598 62.247704 \nL 334.648765 98.853764 \nL 335.338932 113.496188 \nL 336.029099 54.926491 \nL 336.719266 54.926491 \nL 337.409433 69.568916 \nL 338.0996 142.781037 \nL 338.789767 62.247704 \nL 339.479934 128.138613 \nL 340.170101 142.781037 \nL 340.860268 98.853764 \nL 341.550435 84.21134 \nL 342.240602 150.102249 \nL 342.930769 40.284067 \nL 343.620936 47.605279 \nL 344.311103 179.387098 \nL 345.00127 120.817401 \nL 345.691437 179.387098 \nL 346.381604 84.21134 \nL 347.071771 69.568916 \nL 347.761938 91.532552 \nL 348.452105 150.102249 \nL 349.142272 128.138613 \nL 349.832439 76.890128 \nL 350.522606 135.459825 \nL 351.212772 76.890128 \nL 351.902939 62.247704 \nL 352.593106 40.284067 \nL 353.283273 62.247704 \nL 353.97344 32.962855 \nL 354.663607 76.890128 \nL 355.353774 18.320431 \nL 356.043941 91.532552 \nL 356.734108 150.102249 \nL 357.424275 113.496188 \nL 358.114442 69.568916 \nL 358.804609 135.459825 \nL 359.494776 179.387098 \nL 360.184943 47.605279 \nL 360.184943 47.605279 \n\" style=\"fill:none;stroke:#1f77b4;stroke-linecap:square;stroke-width:1.5;\"/>\n   </g>\n   <g id=\"patch_3\">\n    <path d=\"M 40.603125 225.876795 \nL 40.603125 8.436795 \n\" style=\"fill:none;stroke:#000000;stroke-linecap:square;stroke-linejoin:miter;stroke-width:0.8;\"/>\n   </g>\n   <g id=\"patch_4\">\n    <path d=\"M 375.403125 225.876795 \nL 375.403125 8.436795 \n\" style=\"fill:none;stroke:#000000;stroke-linecap:square;stroke-linejoin:miter;stroke-width:0.8;\"/>\n   </g>\n   <g id=\"patch_5\">\n    <path d=\"M 40.603125 225.876795 \nL 375.403125 225.876795 \n\" style=\"fill:none;stroke:#000000;stroke-linecap:square;stroke-linejoin:miter;stroke-width:0.8;\"/>\n   </g>\n   <g id=\"patch_6\">\n    <path d=\"M 40.603125 8.436795 \nL 375.403125 8.436795 \n\" style=\"fill:none;stroke:#000000;stroke-linecap:square;stroke-linejoin:miter;stroke-width:0.8;\"/>\n   </g>\n  </g>\n </g>\n <defs>\n  <clipPath id=\"pd9000294fe\">\n   <rect height=\"217.44\" width=\"334.8\" x=\"40.603125\" y=\"8.436795\"/>\n  </clipPath>\n </defs>\n</svg>\n",
      "text/plain": "<Figure size 432x288 with 1 Axes>"
     },
     "metadata": {
      "needs_background": "light"
     },
     "output_type": "display_data"
    }
   ],
   "source": [
    "# plot the scores\n",
    "fig = plt.figure()\n",
    "ax = fig.add_subplot(111)\n",
    "plt.plot(np.arange(len(scores)), scores)\n",
    "plt.ylabel('Score')\n",
    "plt.xlabel('Episodes')\n",
    "plt.show()"
   ]
  },
  {
   "cell_type": "markdown",
   "execution_count": null,
   "metadata": {},
   "outputs": [],
   "source": [
    "### 5. Discussion on the result\n",
    "\n",
    "The picture above shows how the DDQN was trained in 289 episodes. The DDQN is unstable with the hyper parameters used in this training. The scores are fluctuating continously. The hyper parameters can be the source of unstability, however, this can be improved by using other types of algorithms such as Priority Experience Replay instead of normal ReplayBuffer used in this project.\n",
    "\n",
    "### 6. Replay the best agent"
   ]
  },
  {
   "cell_type": "code",
   "execution_count": 12,
   "metadata": {},
   "outputs": [
    {
     "name": "stdout",
     "output_type": "stream",
     "text": "17.0\n"
    }
   ],
   "source": [
    "agent.qnetwork_local.load_state_dict(torch.load('checkpoint.pth', map_location='cpu'))\n",
    "\n",
    "env_info = env.reset(train_mode=True)[brain_name]# reset the environment\n",
    "state = env_info.vector_observations[0]            # get the current state\n",
    "score = 0                                          # initialize the score\n",
    "\n",
    "while True:\n",
    "    action = agent.act(state)                 # select an action\n",
    "    env_info = env.step(action)[brain_name]        # send the action to the environment\n",
    "    next_state = env_info.vector_observations[0]   # get the next state\n",
    "    reward = env_info.rewards[0]                   # get the reward\n",
    "    done = env_info.local_done[0]                  # see if episode has finished\n",
    "    agent.step(state, action, reward, next_state, done)\n",
    "    score += reward                                # update the score\n",
    "    state = next_state                             # roll over the state to next time step\n",
    "    if done:                                       # exit loop if episode finished\n",
    "        break\n",
    "print(score)"
   ]
  },
  {
   "cell_type": "code",
   "execution_count": 13,
   "metadata": {},
   "outputs": [],
   "source": [
    " env.close()"
   ]
  },
  {
   "cell_type": "code",
   "execution_count": null,
   "metadata": {},
   "outputs": [],
   "source": []
  }
 ],
 "metadata": {
  "kernelspec": {
   "display_name": "drlnd",
   "language": "python",
   "name": "drlnd"
  },
  "language_info": {
   "codemirror_mode": {
    "name": "ipython",
    "version": 3
   },
   "file_extension": ".py",
   "mimetype": "text/x-python",
   "name": "python",
   "nbconvert_exporter": "python",
   "pygments_lexer": "ipython3",
   "version": "3.6.9"
  }
 },
 "nbformat": 4,
 "nbformat_minor": 2
}