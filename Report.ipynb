{
 "cells": [
  {
   "cell_type": "markdown",
   "metadata": {},
   "source": [
    "# Navigation\n",
    "\n",
    "---\n",
    "\n",
    "In this notebook, you will learn how to use the Unity ML-Agents environment for the first project of the [Deep Reinforcement Learning Nanodegree](https://www.udacity.com/course/deep-reinforcement-learning-nanodegree--nd893).\n",
    "\n",
    "### 1. Start the Environment\n",
    "\n",
    "We begin by importing some necessary packages.  If the code cell below returns an error, please revisit the project instructions to double-check that you have installed [Unity ML-Agents](https://github.com/Unity-Technologies/ml-agents/blob/master/docs/Installation.md) and [NumPy](http://www.numpy.org/)."
   ]
  },
  {
   "cell_type": "code",
   "execution_count": 2,
   "metadata": {},
   "outputs": [],
   "source": [
    "from unityagents import UnityEnvironment\n",
    "import numpy as np"
   ]
  },
  {
   "cell_type": "markdown",
   "metadata": {},
   "source": [
    "Next, we will start the environment!  **_Before running the code cell below_**, change the `file_name` parameter to match the location of the Unity environment that you downloaded.\n",
    "\n",
    "- **Mac**: `\"path/to/Banana.app\"`\n",
    "- **Windows** (x86): `\"path/to/Banana_Windows_x86/Banana.exe\"`\n",
    "- **Windows** (x86_64): `\"path/to/Banana_Windows_x86_64/Banana.exe\"`\n",
    "- **Linux** (x86): `\"path/to/Banana_Linux/Banana.x86\"`\n",
    "- **Linux** (x86_64): `\"path/to/Banana_Linux/Banana.x86_64\"`\n",
    "- **Linux** (x86, headless): `\"path/to/Banana_Linux_NoVis/Banana.x86\"`\n",
    "- **Linux** (x86_64, headless): `\"path/to/Banana_Linux_NoVis/Banana.x86_64\"`\n",
    "\n",
    "For instance, if you are using a Mac, then you downloaded `Banana.app`.  If this file is in the same folder as the notebook, then the line below should appear as follows:\n",
    "```\n",
    "env = UnityEnvironment(file_name=\"Banana.app\")\n",
    "```"
   ]
  },
  {
   "cell_type": "code",
   "execution_count": 3,
   "metadata": {},
   "outputs": [
    {
     "name": "stderr",
     "output_type": "stream",
     "text": "INFO:unityagents:\n'Academy' started successfully!\nUnity Academy name: Academy\n        Number of Brains: 1\n        Number of External Brains : 1\n        Lesson number : 0\n        Reset Parameters :\n\t\t\nUnity brain name: BananaBrain\n        Number of Visual Observations (per agent): 0\n        Vector Observation space type: continuous\n        Vector Observation space size (per agent): 37\n        Number of stacked Vector Observation: 1\n        Vector Action space type: discrete\n        Vector Action space size (per agent): 4\n        Vector Action descriptions: , , , \n"
    }
   ],
   "source": [
    "env = UnityEnvironment(file_name=\"./Banana_Linux/Banana.x86_64\")"
   ]
  },
  {
   "cell_type": "markdown",
   "metadata": {},
   "source": [
    "Environments contain **_brains_** which are responsible for deciding the actions of their associated agents. Here we check for the first brain available, and set it as the default brain we will be controlling from Python."
   ]
  },
  {
   "cell_type": "code",
   "execution_count": 4,
   "metadata": {},
   "outputs": [],
   "source": [
    "# get the default brain\n",
    "brain_name = env.brain_names[0]\n",
    "brain = env.brains[brain_name]"
   ]
  },
  {
   "cell_type": "markdown",
   "metadata": {},
   "source": [
    "### 2. Examine the State and Action Spaces\n",
    "\n",
    "The simulation contains a single agent that navigates a large environment.  At each time step, it has four actions at its disposal:\n",
    "- `0` - walk forward \n",
    "- `1` - walk backward\n",
    "- `2` - turn left\n",
    "- `3` - turn right\n",
    "\n",
    "The state space has `37` dimensions and contains the agent's velocity, along with ray-based perception of objects around agent's forward direction.  A reward of `+1` is provided for collecting a yellow banana, and a reward of `-1` is provided for collecting a blue banana. \n",
    "\n",
    "Run the code cell below to print some information about the environment."
   ]
  },
  {
   "cell_type": "code",
   "execution_count": 5,
   "metadata": {},
   "outputs": [
    {
     "name": "stdout",
     "output_type": "stream",
     "text": "Number of agents: 1\nNumber of actions: 4\nStates look like: [1.         0.         0.         0.         0.84408134 0.\n 0.         1.         0.         0.0748472  0.         1.\n 0.         0.         0.25755    1.         0.         0.\n 0.         0.74177343 0.         1.         0.         0.\n 0.25854847 0.         0.         1.         0.         0.09355672\n 0.         1.         0.         0.         0.31969345 0.\n 0.        ]\nStates have length: 37\n"
    }
   ],
   "source": [
    "# reset the environment\n",
    "env_info = env.reset(train_mode=True)[brain_name]\n",
    "\n",
    "# number of agents in the environment\n",
    "print('Number of agents:', len(env_info.agents))\n",
    "\n",
    "# number of actions\n",
    "action_size = brain.vector_action_space_size\n",
    "print('Number of actions:', action_size)\n",
    "\n",
    "# examine the state space \n",
    "state = env_info.vector_observations[0]\n",
    "print('States look like:', state)\n",
    "state_size = len(state)\n",
    "print('States have length:', state_size)"
   ]
  },
  {
   "cell_type": "markdown",
   "metadata": {},
   "source": [
    "### 3. Take Random Actions in the Environment\n",
    "\n",
    "In the next code cell, you will learn how to use the Python API to control the agent and receive feedback from the environment.\n",
    "\n",
    "Once this cell is executed, you will watch the agent's performance, if it selects an action (uniformly) at random with each time step.  A window should pop up that allows you to observe the agent, as it moves through the environment.  \n",
    "\n",
    "Of course, as part of the project, you'll have to change the code so that the agent is able to use its experience to gradually choose better actions when interacting with the environment!"
   ]
  },
  {
   "cell_type": "code",
   "execution_count": 6,
   "metadata": {},
   "outputs": [
    {
     "name": "stdout",
     "output_type": "stream",
     "text": "Score: 0.0\n"
    }
   ],
   "source": [
    "env_info = env.reset(train_mode=False)[brain_name] # reset the environment\n",
    "state = env_info.vector_observations[0]            # get the current state\n",
    "score = 0                                          # initialize the score\n",
    "while True:\n",
    "    action = np.random.randint(action_size)        # select an action\n",
    "    env_info = env.step(action)[brain_name]        # send the action to the environment\n",
    "    next_state = env_info.vector_observations[0]   # get the next state\n",
    "    reward = env_info.rewards[0]                   # get the reward\n",
    "    done = env_info.local_done[0]                  # see if episode has finished\n",
    "    score += reward                                # update the score\n",
    "    state = next_state                             # roll over the state to next time step\n",
    "    if done:                                       # exit loop if episode finished\n",
    "        break\n",
    "    \n",
    "print(\"Score: {}\".format(score))"
   ]
  },
  {
   "cell_type": "markdown",
   "metadata": {},
   "source": [
    "When finished, you can close the environment."
   ]
  },
  {
   "cell_type": "code",
   "execution_count": 7,
   "metadata": {},
   "outputs": [
    {
     "name": "stdout",
     "output_type": "stream",
     "text": "Number of agents: 1\nNumber of actions: 4\nStates look like: [0.         0.         1.         0.         0.16101955 1.\n 0.         0.         0.         0.04571758 1.         0.\n 0.         0.         0.2937662  0.         0.         1.\n 0.         0.14386636 0.         0.         1.         0.\n 0.16776823 1.         0.         0.         0.         0.04420976\n 1.         0.         0.         0.         0.05423063 0.\n 0.        ]\nStates have length: 37\n"
    }
   ],
   "source": [
    "# reset the environment\n",
    "env_info = env.reset(train_mode=True)[brain_name]\n",
    "\n",
    "# number of agents in the environment\n",
    "print('Number of agents:', len(env_info.agents))\n",
    "\n",
    "# number of actions\n",
    "action_size = brain.vector_action_space_size\n",
    "print('Number of actions:', action_size)\n",
    "\n",
    "# examine the state space \n",
    "state = env_info.vector_observations[0]\n",
    "print('States look like:', state)\n",
    "state_size = len(state)\n",
    "print('States have length:', state_size)\n"
   ]
  },
  {
   "cell_type": "markdown",
   "metadata": {},
   "source": [
    "### 4. Training\n",
    "\n",
    "#### 1. Deuling Deep Q Network (DDQN)\n",
    "\n",
    "DDQN was implemented as this learning algorithm can directly assess the value of each state without processing the effect of each action. This learning algorithm has characteristics of :\n",
    "\n",
    "![DDQN Architecture](DDQN_arch.png)\n",
    "\n",
    "- Two streams of Networks : State Value  and Advantage of actions\n",
    "- Q value derived by combining those two networks at the end.\n",
    "- using Soft update with $\\tau$: reducing the variance right after the target parameters updated.\n",
    "\n",
    "#### 2. Network Layouts\n",
    "\n",
    "The Network layers implemented as below:\n",
    "```\n",
    "Architecture: Dueling DQN\n",
    "DuelingQNetwork(\n",
    "  (fc1): Linear(in_features=37, out_features=64, bias=True)\n",
    "  (fc2): Linear(in_features=64, out_features=64, bias=True)\n",
    "  Value network\n",
    "  (fc3_1): Linear(in_features=64, out_features=32, bias=True)\n",
    "  (fc4_1): Linear(in_features=32, out_features=1, bias=True)\n",
    "  Advantage network\n",
    "  (fc3_2): Linear(in_features=64, out_features=32, bias=True)\n",
    "  (fc4_2): Linear(in_features=32, out_features=4, bias=True)\n",
    ")\n",
    "```\n",
    "\n",
    "A small network was chosen to fit the capacity for the environment. 64 and 64 nodes of fully connected networks are sufficient to learn the possible states and the lower number of nodes starts to struggles learning and scores were oscilated much.\n",
    "\n",
    "#### 3. Hyper-parameters\n",
    "\n",
    "| Parameter Name      | Description           | Value  |\n",
    "| ------------- |:-------------:| -----:|\n",
    "| BUFFER_SIZE      | Size of the replay buffer | 1e5 |\n",
    "| BATCH_SIZE      | Mini-batch size      |   64 |\n",
    "| GAMMA ($\\gamma$) | Discount factor      |   0.99 |\n",
    "| TAU ($\\tau$) | For Soft update of target parameters | 1e-3|\n",
    "| LR| learning rate | 1e-4 |\n",
    "| UPDATE_EVERY| how often to update the network| 4 |\n",
    "\n",
    "#### 4. Experience replay\n",
    "Experience buffer was used to converge the learning faster and reuse the episodes randomly on the go.\n",
    "\n",
    "\n"
   ]
  },
  {
   "cell_type": "code",
   "execution_count": 8,
   "metadata": {},
   "outputs": [],
   "source": [
    "from dqn_agent import Agent\n",
    "from collections import deque\n",
    "import torch\n",
    "import matplotlib.pyplot as plt\n"
   ]
  },
  {
   "cell_type": "code",
   "execution_count": 9,
   "metadata": {},
   "outputs": [],
   "source": [
    "def train(number_of_episodes = 2000, max_timesteps = 1000, e_greedy_start = 1.0, e_greedy_decay=0.985, e_greedy_min = 0.008):\n",
    "    \n",
    "    scores = []                        # list containing scores from each episode\n",
    "    scores_window = deque(maxlen=100)  # last 100 scores\n",
    "    eps = e_greedy_start\n",
    "    \n",
    "    for i_episode in range(1, number_of_episodes):\n",
    "        env_info = env.reset(train_mode=True)[brain_name]# reset the environment\n",
    "        state = env_info.vector_observations[0]            # get the current state\n",
    "        score = 0                                          # initialize the score\n",
    "\n",
    "        for t in range(max_timesteps):\n",
    "            action = agent.act(state, eps)                 # select an action\n",
    "            env_info = env.step(action)[brain_name]        # send the action to the environment\n",
    "            next_state = env_info.vector_observations[0]   # get the next state\n",
    "            reward = env_info.rewards[0]                   # get the reward\n",
    "            done = env_info.local_done[0]                  # see if episode has finished\n",
    "            agent.step(state, action, reward, next_state, done)\n",
    "            score += reward                                # update the score\n",
    "            state = next_state                             # roll over the state to next time step\n",
    "            if done:                                       # exit loop if episode finished\n",
    "                break\n",
    "        scores_window.append(score)       # save most recent score\n",
    "        scores.append(score)              # save most recent score\n",
    "        eps = max(e_greedy_min, e_greedy_decay*eps) # decrease epsilon\n",
    "        \n",
    "        print('\\rEpisode {}\\tAverage Score: {:.2f} eps: {:.2f}'.format(i_episode, np.mean(scores_window), eps), end=\"\")\n",
    "        if i_episode % 100 == 0:\n",
    "            print('\\rEpisode {}\\tAverage Score: {:.2f} eps: {:.2f}'.format(i_episode, np.mean(scores_window), eps))\n",
    "        if np.mean(scores_window)>=13:\n",
    "            print('\\nEnvironment solved in {:d} episodes!\\tAverage Score: {:.2f}'.format(i_episode - 100, np.mean(scores_window)))\n",
    "            torch.save(agent.qnetwork_local.state_dict(), 'checkpoint.pth')\n",
    "            break \n",
    "    return scores"
   ]
  },
  {
   "cell_type": "code",
   "execution_count": 10,
   "metadata": {},
   "outputs": [
    {
     "name": "stdout",
     "output_type": "stream",
     "text": "Architecture: Dueling Double QN\nDuelingQNetwork(\n  (fc1): Linear(in_features=37, out_features=64, bias=True)\n  (fc2): Linear(in_features=64, out_features=64, bias=True)\n  (fc3_1): Linear(in_features=64, out_features=32, bias=True)\n  (fc4_1): Linear(in_features=32, out_features=1, bias=True)\n  (fc3_2): Linear(in_features=64, out_features=32, bias=True)\n  (fc4_2): Linear(in_features=32, out_features=4, bias=True)\n)\n"
    }
   ],
   "source": [
    "agent = Agent(state_size, action_size, seed=0, network=\"Dueling\", stepkey=\"Double\")"
   ]
  },
  {
   "cell_type": "code",
   "execution_count": 11,
   "metadata": {},
   "outputs": [
    {
     "name": "stdout",
     "output_type": "stream",
     "text": "Episode 100\tAverage Score: 0.31 eps: 0.37\nEpisode 200\tAverage Score: 3.55 eps: 0.13\nEpisode 300\tAverage Score: 9.10 eps: 0.05\nEpisode 400\tAverage Score: 10.74 eps: 0.02\nEpisode 458\tAverage Score: 13.06 eps: 0.01\nEnvironment solved in 358 episodes!\tAverage Score: 13.06\n"
    }
   ],
   "source": [
    "scores = train()"
   ]
  },
  {
   "cell_type": "code",
   "execution_count": 12,
   "metadata": {},
   "outputs": [
    {
     "data": {
      "image/png": "[encoded data removed]",
      "image/svg+xml": "<?xml version=\"1.0\" encoding=\"utf-8\" standalone=\"no\"?>\n<!DOCTYPE svg PUBLIC \"-//W3C//DTD SVG 1.1//EN\"\n  \"http://www.w3.org/Graphics/SVG/1.1/DTD/svg11.dtd\">\n<!-- Created with matplotlib (https://matplotlib.org/) -->\n<svg height=\"262.19625pt\" version=\"1.1\" viewBox=\"0 0 382.603125 262.19625\" width=\"382.603125pt\" xmlns=\"http://www.w3.org/2000/svg\" xmlns:xlink=\"http://www.w3.org/1999/xlink\">\n <defs>\n  <style type=\"text/css\">\n*{stroke-linecap:butt;stroke-linejoin:round;}\n  </style>\n </defs>\n <g id=\"figure_1\">\n  <g id=\"patch_1\">\n   <path d=\"M 0 262.19625 \nL 382.603125 262.19625 \nL 382.603125 0 \nL 0 0 \nz\n\" style=\"fill:none;\"/>\n  </g>\n  <g id=\"axes_1\">\n   <g id=\"patch_2\">\n    <path d=\"M 40.603125 224.64 \nL 375.403125 224.64 \nL 375.403125 7.2 \nL 40.603125 7.2 \nz\n\" style=\"fill:#ffffff;\"/>\n   </g>\n   <g id=\"matplotlib.axis_1\">\n    <g id=\"xtick_1\">\n     <g id=\"line2d_1\">\n      <defs>\n       <path d=\"M 0 0 \nL 0 3.5 \n\" id=\"m8170ad7ca8\" style=\"stroke:#000000;stroke-width:0.8;\"/>\n      </defs>\n      <g>\n       <use style=\"stroke:#000000;stroke-width:0.8;\" x=\"55.821307\" xlink:href=\"#m8170ad7ca8\" y=\"224.64\"/>\n      </g>\n     </g>\n     <g id=\"text_1\">\n      <!-- 0 -->\n      <defs>\n       <path d=\"M 31.78125 66.40625 \nQ 24.171875 66.40625 20.328125 58.90625 \nQ 16.5 51.421875 16.5 36.375 \nQ 16.5 21.390625 20.328125 13.890625 \nQ 24.171875 6.390625 31.78125 6.390625 \nQ 39.453125 6.390625 43.28125 13.890625 \nQ 47.125 21.390625 47.125 36.375 \nQ 47.125 51.421875 43.28125 58.90625 \nQ 39.453125 66.40625 31.78125 66.40625 \nz\nM 31.78125 74.21875 \nQ 44.046875 74.21875 50.515625 64.515625 \nQ 56.984375 54.828125 56.984375 36.375 \nQ 56.984375 17.96875 50.515625 8.265625 \nQ 44.046875 -1.421875 31.78125 -1.421875 \nQ 19.53125 -1.421875 13.0625 8.265625 \nQ 6.59375 17.96875 6.59375 36.375 \nQ 6.59375 54.828125 13.0625 64.515625 \nQ 19.53125 74.21875 31.78125 74.21875 \nz\n\" id=\"DejaVuSans-48\"/>\n      </defs>\n      <g transform=\"translate(52.640057 239.238437)scale(0.1 -0.1)\">\n       <use xlink:href=\"#DejaVuSans-48\"/>\n      </g>\n     </g>\n    </g>\n    <g id=\"xtick_2\">\n     <g id=\"line2d_2\">\n      <g>\n       <use style=\"stroke:#000000;stroke-width:0.8;\" x=\"122.421665\" xlink:href=\"#m8170ad7ca8\" y=\"224.64\"/>\n      </g>\n     </g>\n     <g id=\"text_2\">\n      <!-- 100 -->\n      <defs>\n       <path d=\"M 12.40625 8.296875 \nL 28.515625 8.296875 \nL 28.515625 63.921875 \nL 10.984375 60.40625 \nL 10.984375 69.390625 \nL 28.421875 72.90625 \nL 38.28125 72.90625 \nL 38.28125 8.296875 \nL 54.390625 8.296875 \nL 54.390625 0 \nL 12.40625 0 \nz\n\" id=\"DejaVuSans-49\"/>\n      </defs>\n      <g transform=\"translate(112.877915 239.238437)scale(0.1 -0.1)\">\n       <use xlink:href=\"#DejaVuSans-49\"/>\n       <use x=\"63.623047\" xlink:href=\"#DejaVuSans-48\"/>\n       <use x=\"127.246094\" xlink:href=\"#DejaVuSans-48\"/>\n      </g>\n     </g>\n    </g>\n    <g id=\"xtick_3\">\n     <g id=\"line2d_3\">\n      <g>\n       <use style=\"stroke:#000000;stroke-width:0.8;\" x=\"189.022023\" xlink:href=\"#m8170ad7ca8\" y=\"224.64\"/>\n      </g>\n     </g>\n     <g id=\"text_3\">\n      <!-- 200 -->\n      <defs>\n       <path d=\"M 19.1875 8.296875 \nL 53.609375 8.296875 \nL 53.609375 0 \nL 7.328125 0 \nL 7.328125 8.296875 \nQ 12.9375 14.109375 22.625 23.890625 \nQ 32.328125 33.6875 34.8125 36.53125 \nQ 39.546875 41.84375 41.421875 45.53125 \nQ 43.3125 49.21875 43.3125 52.78125 \nQ 43.3125 58.59375 39.234375 62.25 \nQ 35.15625 65.921875 28.609375 65.921875 \nQ 23.96875 65.921875 18.8125 64.3125 \nQ 13.671875 62.703125 7.8125 59.421875 \nL 7.8125 69.390625 \nQ 13.765625 71.78125 18.9375 73 \nQ 24.125 74.21875 28.421875 74.21875 \nQ 39.75 74.21875 46.484375 68.546875 \nQ 53.21875 62.890625 53.21875 53.421875 \nQ 53.21875 48.921875 51.53125 44.890625 \nQ 49.859375 40.875 45.40625 35.40625 \nQ 44.1875 33.984375 37.640625 27.21875 \nQ 31.109375 20.453125 19.1875 8.296875 \nz\n\" id=\"DejaVuSans-50\"/>\n      </defs>\n      <g transform=\"translate(179.478273 239.238437)scale(0.1 -0.1)\">\n       <use xlink:href=\"#DejaVuSans-50\"/>\n       <use x=\"63.623047\" xlink:href=\"#DejaVuSans-48\"/>\n       <use x=\"127.246094\" xlink:href=\"#DejaVuSans-48\"/>\n      </g>\n     </g>\n    </g>\n    <g id=\"xtick_4\">\n     <g id=\"line2d_4\">\n      <g>\n       <use style=\"stroke:#000000;stroke-width:0.8;\" x=\"255.622381\" xlink:href=\"#m8170ad7ca8\" y=\"224.64\"/>\n      </g>\n     </g>\n     <g id=\"text_4\">\n      <!-- 300 -->\n      <defs>\n       <path d=\"M 40.578125 39.3125 \nQ 47.65625 37.796875 51.625 33 \nQ 55.609375 28.21875 55.609375 21.1875 \nQ 55.609375 10.40625 48.1875 4.484375 \nQ 40.765625 -1.421875 27.09375 -1.421875 \nQ 22.515625 -1.421875 17.65625 -0.515625 \nQ 12.796875 0.390625 7.625 2.203125 \nL 7.625 11.71875 \nQ 11.71875 9.328125 16.59375 8.109375 \nQ 21.484375 6.890625 26.8125 6.890625 \nQ 36.078125 6.890625 40.9375 10.546875 \nQ 45.796875 14.203125 45.796875 21.1875 \nQ 45.796875 27.640625 41.28125 31.265625 \nQ 36.765625 34.90625 28.71875 34.90625 \nL 20.21875 34.90625 \nL 20.21875 43.015625 \nL 29.109375 43.015625 \nQ 36.375 43.015625 40.234375 45.921875 \nQ 44.09375 48.828125 44.09375 54.296875 \nQ 44.09375 59.90625 40.109375 62.90625 \nQ 36.140625 65.921875 28.71875 65.921875 \nQ 24.65625 65.921875 20.015625 65.03125 \nQ 15.375 64.15625 9.8125 62.3125 \nL 9.8125 71.09375 \nQ 15.4375 72.65625 20.34375 73.4375 \nQ 25.25 74.21875 29.59375 74.21875 \nQ 40.828125 74.21875 47.359375 69.109375 \nQ 53.90625 64.015625 53.90625 55.328125 \nQ 53.90625 49.265625 50.4375 45.09375 \nQ 46.96875 40.921875 40.578125 39.3125 \nz\n\" id=\"DejaVuSans-51\"/>\n      </defs>\n      <g transform=\"translate(246.078631 239.238437)scale(0.1 -0.1)\">\n       <use xlink:href=\"#DejaVuSans-51\"/>\n       <use x=\"63.623047\" xlink:href=\"#DejaVuSans-48\"/>\n       <use x=\"127.246094\" xlink:href=\"#DejaVuSans-48\"/>\n      </g>\n     </g>\n    </g>\n    <g id=\"xtick_5\">\n     <g id=\"line2d_5\">\n      <g>\n       <use style=\"stroke:#000000;stroke-width:0.8;\" x=\"322.222739\" xlink:href=\"#m8170ad7ca8\" y=\"224.64\"/>\n      </g>\n     </g>\n     <g id=\"text_5\">\n      <!-- 400 -->\n      <defs>\n       <path d=\"M 37.796875 64.3125 \nL 12.890625 25.390625 \nL 37.796875 25.390625 \nz\nM 35.203125 72.90625 \nL 47.609375 72.90625 \nL 47.609375 25.390625 \nL 58.015625 25.390625 \nL 58.015625 17.1875 \nL 47.609375 17.1875 \nL 47.609375 0 \nL 37.796875 0 \nL 37.796875 17.1875 \nL 4.890625 17.1875 \nL 4.890625 26.703125 \nz\n\" id=\"DejaVuSans-52\"/>\n      </defs>\n      <g transform=\"translate(312.678989 239.238437)scale(0.1 -0.1)\">\n       <use xlink:href=\"#DejaVuSans-52\"/>\n       <use x=\"63.623047\" xlink:href=\"#DejaVuSans-48\"/>\n       <use x=\"127.246094\" xlink:href=\"#DejaVuSans-48\"/>\n      </g>\n     </g>\n    </g>\n    <g id=\"text_6\">\n     <!-- Episodes -->\n     <defs>\n      <path d=\"M 9.8125 72.90625 \nL 55.90625 72.90625 \nL 55.90625 64.59375 \nL 19.671875 64.59375 \nL 19.671875 43.015625 \nL 54.390625 43.015625 \nL 54.390625 34.71875 \nL 19.671875 34.71875 \nL 19.671875 8.296875 \nL 56.78125 8.296875 \nL 56.78125 0 \nL 9.8125 0 \nz\n\" id=\"DejaVuSans-69\"/>\n      <path d=\"M 18.109375 8.203125 \nL 18.109375 -20.796875 \nL 9.078125 -20.796875 \nL 9.078125 54.6875 \nL 18.109375 54.6875 \nL 18.109375 46.390625 \nQ 20.953125 51.265625 25.265625 53.625 \nQ 29.59375 56 35.59375 56 \nQ 45.5625 56 51.78125 48.09375 \nQ 58.015625 40.1875 58.015625 27.296875 \nQ 58.015625 14.40625 51.78125 6.484375 \nQ 45.5625 -1.421875 35.59375 -1.421875 \nQ 29.59375 -1.421875 25.265625 0.953125 \nQ 20.953125 3.328125 18.109375 8.203125 \nz\nM 48.6875 27.296875 \nQ 48.6875 37.203125 44.609375 42.84375 \nQ 40.53125 48.484375 33.40625 48.484375 \nQ 26.265625 48.484375 22.1875 42.84375 \nQ 18.109375 37.203125 18.109375 27.296875 \nQ 18.109375 17.390625 22.1875 11.75 \nQ 26.265625 6.109375 33.40625 6.109375 \nQ 40.53125 6.109375 44.609375 11.75 \nQ 48.6875 17.390625 48.6875 27.296875 \nz\n\" id=\"DejaVuSans-112\"/>\n      <path d=\"M 9.421875 54.6875 \nL 18.40625 54.6875 \nL 18.40625 0 \nL 9.421875 0 \nz\nM 9.421875 75.984375 \nL 18.40625 75.984375 \nL 18.40625 64.59375 \nL 9.421875 64.59375 \nz\n\" id=\"DejaVuSans-105\"/>\n      <path d=\"M 44.28125 53.078125 \nL 44.28125 44.578125 \nQ 40.484375 46.53125 36.375 47.5 \nQ 32.28125 48.484375 27.875 48.484375 \nQ 21.1875 48.484375 17.84375 46.4375 \nQ 14.5 44.390625 14.5 40.28125 \nQ 14.5 37.15625 16.890625 35.375 \nQ 19.28125 33.59375 26.515625 31.984375 \nL 29.59375 31.296875 \nQ 39.15625 29.25 43.1875 25.515625 \nQ 47.21875 21.78125 47.21875 15.09375 \nQ 47.21875 7.46875 41.1875 3.015625 \nQ 35.15625 -1.421875 24.609375 -1.421875 \nQ 20.21875 -1.421875 15.453125 -0.5625 \nQ 10.6875 0.296875 5.421875 2 \nL 5.421875 11.28125 \nQ 10.40625 8.6875 15.234375 7.390625 \nQ 20.0625 6.109375 24.8125 6.109375 \nQ 31.15625 6.109375 34.5625 8.28125 \nQ 37.984375 10.453125 37.984375 14.40625 \nQ 37.984375 18.0625 35.515625 20.015625 \nQ 33.0625 21.96875 24.703125 23.78125 \nL 21.578125 24.515625 \nQ 13.234375 26.265625 9.515625 29.90625 \nQ 5.8125 33.546875 5.8125 39.890625 \nQ 5.8125 47.609375 11.28125 51.796875 \nQ 16.75 56 26.8125 56 \nQ 31.78125 56 36.171875 55.265625 \nQ 40.578125 54.546875 44.28125 53.078125 \nz\n\" id=\"DejaVuSans-115\"/>\n      <path d=\"M 30.609375 48.390625 \nQ 23.390625 48.390625 19.1875 42.75 \nQ 14.984375 37.109375 14.984375 27.296875 \nQ 14.984375 17.484375 19.15625 11.84375 \nQ 23.34375 6.203125 30.609375 6.203125 \nQ 37.796875 6.203125 41.984375 11.859375 \nQ 46.1875 17.53125 46.1875 27.296875 \nQ 46.1875 37.015625 41.984375 42.703125 \nQ 37.796875 48.390625 30.609375 48.390625 \nz\nM 30.609375 56 \nQ 42.328125 56 49.015625 48.375 \nQ 55.71875 40.765625 55.71875 27.296875 \nQ 55.71875 13.875 49.015625 6.21875 \nQ 42.328125 -1.421875 30.609375 -1.421875 \nQ 18.84375 -1.421875 12.171875 6.21875 \nQ 5.515625 13.875 5.515625 27.296875 \nQ 5.515625 40.765625 12.171875 48.375 \nQ 18.84375 56 30.609375 56 \nz\n\" id=\"DejaVuSans-111\"/>\n      <path d=\"M 45.40625 46.390625 \nL 45.40625 75.984375 \nL 54.390625 75.984375 \nL 54.390625 0 \nL 45.40625 0 \nL 45.40625 8.203125 \nQ 42.578125 3.328125 38.25 0.953125 \nQ 33.9375 -1.421875 27.875 -1.421875 \nQ 17.96875 -1.421875 11.734375 6.484375 \nQ 5.515625 14.40625 5.515625 27.296875 \nQ 5.515625 40.1875 11.734375 48.09375 \nQ 17.96875 56 27.875 56 \nQ 33.9375 56 38.25 53.625 \nQ 42.578125 51.265625 45.40625 46.390625 \nz\nM 14.796875 27.296875 \nQ 14.796875 17.390625 18.875 11.75 \nQ 22.953125 6.109375 30.078125 6.109375 \nQ 37.203125 6.109375 41.296875 11.75 \nQ 45.40625 17.390625 45.40625 27.296875 \nQ 45.40625 37.203125 41.296875 42.84375 \nQ 37.203125 48.484375 30.078125 48.484375 \nQ 22.953125 48.484375 18.875 42.84375 \nQ 14.796875 37.203125 14.796875 27.296875 \nz\n\" id=\"DejaVuSans-100\"/>\n      <path d=\"M 56.203125 29.59375 \nL 56.203125 25.203125 \nL 14.890625 25.203125 \nQ 15.484375 15.921875 20.484375 11.0625 \nQ 25.484375 6.203125 34.421875 6.203125 \nQ 39.59375 6.203125 44.453125 7.46875 \nQ 49.3125 8.734375 54.109375 11.28125 \nL 54.109375 2.78125 \nQ 49.265625 0.734375 44.1875 -0.34375 \nQ 39.109375 -1.421875 33.890625 -1.421875 \nQ 20.796875 -1.421875 13.15625 6.1875 \nQ 5.515625 13.8125 5.515625 26.8125 \nQ 5.515625 40.234375 12.765625 48.109375 \nQ 20.015625 56 32.328125 56 \nQ 43.359375 56 49.78125 48.890625 \nQ 56.203125 41.796875 56.203125 29.59375 \nz\nM 47.21875 32.234375 \nQ 47.125 39.59375 43.09375 43.984375 \nQ 39.0625 48.390625 32.421875 48.390625 \nQ 24.90625 48.390625 20.390625 44.140625 \nQ 15.875 39.890625 15.1875 32.171875 \nz\n\" id=\"DejaVuSans-101\"/>\n     </defs>\n     <g transform=\"translate(185.760937 252.916562)scale(0.1 -0.1)\">\n      <use xlink:href=\"#DejaVuSans-69\"/>\n      <use x=\"63.183594\" xlink:href=\"#DejaVuSans-112\"/>\n      <use x=\"126.660156\" xlink:href=\"#DejaVuSans-105\"/>\n      <use x=\"154.443359\" xlink:href=\"#DejaVuSans-115\"/>\n      <use x=\"206.542969\" xlink:href=\"#DejaVuSans-111\"/>\n      <use x=\"267.724609\" xlink:href=\"#DejaVuSans-100\"/>\n      <use x=\"331.201172\" xlink:href=\"#DejaVuSans-101\"/>\n      <use x=\"392.724609\" xlink:href=\"#DejaVuSans-115\"/>\n     </g>\n    </g>\n   </g>\n   <g id=\"matplotlib.axis_2\">\n    <g id=\"ytick_1\">\n     <g id=\"line2d_6\">\n      <defs>\n       <path d=\"M 0 0 \nL -3.5 0 \n\" id=\"me12ce966ea\" style=\"stroke:#000000;stroke-width:0.8;\"/>\n      </defs>\n      <g>\n       <use style=\"stroke:#000000;stroke-width:0.8;\" x=\"40.603125\" xlink:href=\"#me12ce966ea\" y=\"191.035636\"/>\n      </g>\n     </g>\n     <g id=\"text_7\">\n      <!-- 0 -->\n      <g transform=\"translate(27.240625 194.834855)scale(0.1 -0.1)\">\n       <use xlink:href=\"#DejaVuSans-48\"/>\n      </g>\n     </g>\n    </g>\n    <g id=\"ytick_2\">\n     <g id=\"line2d_7\">\n      <g>\n       <use style=\"stroke:#000000;stroke-width:0.8;\" x=\"40.603125\" xlink:href=\"#me12ce966ea\" y=\"151.501091\"/>\n      </g>\n     </g>\n     <g id=\"text_8\">\n      <!-- 5 -->\n      <defs>\n       <path d=\"M 10.796875 72.90625 \nL 49.515625 72.90625 \nL 49.515625 64.59375 \nL 19.828125 64.59375 \nL 19.828125 46.734375 \nQ 21.96875 47.46875 24.109375 47.828125 \nQ 26.265625 48.1875 28.421875 48.1875 \nQ 40.625 48.1875 47.75 41.5 \nQ 54.890625 34.8125 54.890625 23.390625 \nQ 54.890625 11.625 47.5625 5.09375 \nQ 40.234375 -1.421875 26.90625 -1.421875 \nQ 22.3125 -1.421875 17.546875 -0.640625 \nQ 12.796875 0.140625 7.71875 1.703125 \nL 7.71875 11.625 \nQ 12.109375 9.234375 16.796875 8.0625 \nQ 21.484375 6.890625 26.703125 6.890625 \nQ 35.15625 6.890625 40.078125 11.328125 \nQ 45.015625 15.765625 45.015625 23.390625 \nQ 45.015625 31 40.078125 35.4375 \nQ 35.15625 39.890625 26.703125 39.890625 \nQ 22.75 39.890625 18.8125 39.015625 \nQ 14.890625 38.140625 10.796875 36.28125 \nz\n\" id=\"DejaVuSans-53\"/>\n      </defs>\n      <g transform=\"translate(27.240625 155.30031)scale(0.1 -0.1)\">\n       <use xlink:href=\"#DejaVuSans-53\"/>\n      </g>\n     </g>\n    </g>\n    <g id=\"ytick_3\">\n     <g id=\"line2d_8\">\n      <g>\n       <use style=\"stroke:#000000;stroke-width:0.8;\" x=\"40.603125\" xlink:href=\"#me12ce966ea\" y=\"111.966545\"/>\n      </g>\n     </g>\n     <g id=\"text_9\">\n      <!-- 10 -->\n      <g transform=\"translate(20.878125 115.765764)scale(0.1 -0.1)\">\n       <use xlink:href=\"#DejaVuSans-49\"/>\n       <use x=\"63.623047\" xlink:href=\"#DejaVuSans-48\"/>\n      </g>\n     </g>\n    </g>\n    <g id=\"ytick_4\">\n     <g id=\"line2d_9\">\n      <g>\n       <use style=\"stroke:#000000;stroke-width:0.8;\" x=\"40.603125\" xlink:href=\"#me12ce966ea\" y=\"72.432\"/>\n      </g>\n     </g>\n     <g id=\"text_10\">\n      <!-- 15 -->\n      <g transform=\"translate(20.878125 76.231219)scale(0.1 -0.1)\">\n       <use xlink:href=\"#DejaVuSans-49\"/>\n       <use x=\"63.623047\" xlink:href=\"#DejaVuSans-53\"/>\n      </g>\n     </g>\n    </g>\n    <g id=\"ytick_5\">\n     <g id=\"line2d_10\">\n      <g>\n       <use style=\"stroke:#000000;stroke-width:0.8;\" x=\"40.603125\" xlink:href=\"#me12ce966ea\" y=\"32.897455\"/>\n      </g>\n     </g>\n     <g id=\"text_11\">\n      <!-- 20 -->\n      <g transform=\"translate(20.878125 36.696673)scale(0.1 -0.1)\">\n       <use xlink:href=\"#DejaVuSans-50\"/>\n       <use x=\"63.623047\" xlink:href=\"#DejaVuSans-48\"/>\n      </g>\n     </g>\n    </g>\n    <g id=\"text_12\">\n     <!-- Score -->\n     <defs>\n      <path d=\"M 53.515625 70.515625 \nL 53.515625 60.890625 \nQ 47.90625 63.578125 42.921875 64.890625 \nQ 37.9375 66.21875 33.296875 66.21875 \nQ 25.25 66.21875 20.875 63.09375 \nQ 16.5 59.96875 16.5 54.203125 \nQ 16.5 49.359375 19.40625 46.890625 \nQ 22.3125 44.4375 30.421875 42.921875 \nL 36.375 41.703125 \nQ 47.40625 39.59375 52.65625 34.296875 \nQ 57.90625 29 57.90625 20.125 \nQ 57.90625 9.515625 50.796875 4.046875 \nQ 43.703125 -1.421875 29.984375 -1.421875 \nQ 24.8125 -1.421875 18.96875 -0.25 \nQ 13.140625 0.921875 6.890625 3.21875 \nL 6.890625 13.375 \nQ 12.890625 10.015625 18.65625 8.296875 \nQ 24.421875 6.59375 29.984375 6.59375 \nQ 38.421875 6.59375 43.015625 9.90625 \nQ 47.609375 13.234375 47.609375 19.390625 \nQ 47.609375 24.75 44.3125 27.78125 \nQ 41.015625 30.8125 33.5 32.328125 \nL 27.484375 33.5 \nQ 16.453125 35.6875 11.515625 40.375 \nQ 6.59375 45.0625 6.59375 53.421875 \nQ 6.59375 63.09375 13.40625 68.65625 \nQ 20.21875 74.21875 32.171875 74.21875 \nQ 37.3125 74.21875 42.625 73.28125 \nQ 47.953125 72.359375 53.515625 70.515625 \nz\n\" id=\"DejaVuSans-83\"/>\n      <path d=\"M 48.78125 52.59375 \nL 48.78125 44.1875 \nQ 44.96875 46.296875 41.140625 47.34375 \nQ 37.3125 48.390625 33.40625 48.390625 \nQ 24.65625 48.390625 19.8125 42.84375 \nQ 14.984375 37.3125 14.984375 27.296875 \nQ 14.984375 17.28125 19.8125 11.734375 \nQ 24.65625 6.203125 33.40625 6.203125 \nQ 37.3125 6.203125 41.140625 7.25 \nQ 44.96875 8.296875 48.78125 10.40625 \nL 48.78125 2.09375 \nQ 45.015625 0.34375 40.984375 -0.53125 \nQ 36.96875 -1.421875 32.421875 -1.421875 \nQ 20.0625 -1.421875 12.78125 6.34375 \nQ 5.515625 14.109375 5.515625 27.296875 \nQ 5.515625 40.671875 12.859375 48.328125 \nQ 20.21875 56 33.015625 56 \nQ 37.15625 56 41.109375 55.140625 \nQ 45.0625 54.296875 48.78125 52.59375 \nz\n\" id=\"DejaVuSans-99\"/>\n      <path d=\"M 41.109375 46.296875 \nQ 39.59375 47.171875 37.8125 47.578125 \nQ 36.03125 48 33.890625 48 \nQ 26.265625 48 22.1875 43.046875 \nQ 18.109375 38.09375 18.109375 28.8125 \nL 18.109375 0 \nL 9.078125 0 \nL 9.078125 54.6875 \nL 18.109375 54.6875 \nL 18.109375 46.1875 \nQ 20.953125 51.171875 25.484375 53.578125 \nQ 30.03125 56 36.53125 56 \nQ 37.453125 56 38.578125 55.875 \nQ 39.703125 55.765625 41.0625 55.515625 \nz\n\" id=\"DejaVuSans-114\"/>\n     </defs>\n     <g transform=\"translate(14.798438 130.033281)rotate(-90)scale(0.1 -0.1)\">\n      <use xlink:href=\"#DejaVuSans-83\"/>\n      <use x=\"63.476562\" xlink:href=\"#DejaVuSans-99\"/>\n      <use x=\"118.457031\" xlink:href=\"#DejaVuSans-111\"/>\n      <use x=\"179.638672\" xlink:href=\"#DejaVuSans-114\"/>\n      <use x=\"220.720703\" xlink:href=\"#DejaVuSans-101\"/>\n     </g>\n    </g>\n   </g>\n   <g id=\"line2d_11\">\n    <path clip-path=\"url(#p6314f9ca4c)\" d=\"M 55.821307 198.942545 \nL 56.48731 183.128727 \nL 57.153314 183.128727 \nL 57.819318 198.942545 \nL 58.485321 191.035636 \nL 59.817328 206.849455 \nL 60.483332 191.035636 \nL 61.149335 191.035636 \nL 61.815339 175.221818 \nL 62.481343 191.035636 \nL 63.81335 191.035636 \nL 64.479353 206.849455 \nL 65.145357 183.128727 \nL 65.811361 198.942545 \nL 66.477364 183.128727 \nL 67.143368 198.942545 \nL 67.809371 191.035636 \nL 68.475375 214.756364 \nL 69.807382 198.942545 \nL 70.473386 183.128727 \nL 71.139389 183.128727 \nL 73.1374 206.849455 \nL 74.469407 191.035636 \nL 75.135411 191.035636 \nL 76.467418 206.849455 \nL 77.133421 183.128727 \nL 77.799425 198.942545 \nL 78.465429 191.035636 \nL 79.131432 214.756364 \nL 79.797436 206.849455 \nL 80.463439 175.221818 \nL 81.129443 183.128727 \nL 81.795446 198.942545 \nL 82.46145 191.035636 \nL 83.793457 206.849455 \nL 84.459461 191.035636 \nL 85.125464 191.035636 \nL 85.791468 183.128727 \nL 87.123475 198.942545 \nL 87.789479 167.314909 \nL 88.455482 191.035636 \nL 89.121486 167.314909 \nL 89.787489 183.128727 \nL 90.453493 191.035636 \nL 91.119497 167.314909 \nL 91.7855 167.314909 \nL 92.451504 175.221818 \nL 93.117507 198.942545 \nL 94.449514 183.128727 \nL 95.115518 183.128727 \nL 95.781522 191.035636 \nL 96.447525 191.035636 \nL 97.113529 183.128727 \nL 97.779532 183.128727 \nL 98.445536 198.942545 \nL 99.11154 198.942545 \nL 99.777543 191.035636 \nL 101.10955 191.035636 \nL 101.775554 175.221818 \nL 102.441557 206.849455 \nL 103.107561 191.035636 \nL 104.439568 191.035636 \nL 105.105572 183.128727 \nL 105.771575 151.501091 \nL 106.437579 191.035636 \nL 107.103583 191.035636 \nL 107.769586 159.408 \nL 108.43559 183.128727 \nL 109.101593 167.314909 \nL 110.4336 198.942545 \nL 111.099604 175.221818 \nL 111.765608 191.035636 \nL 112.431611 167.314909 \nL 113.097615 183.128727 \nL 114.429622 183.128727 \nL 115.095625 198.942545 \nL 115.761629 206.849455 \nL 116.427633 191.035636 \nL 117.093636 183.128727 \nL 117.75964 151.501091 \nL 118.425643 175.221818 \nL 119.091647 167.314909 \nL 119.757651 206.849455 \nL 120.423654 167.314909 \nL 121.089658 167.314909 \nL 121.755661 183.128727 \nL 123.087668 183.128727 \nL 123.753672 175.221818 \nL 124.419676 198.942545 \nL 125.085679 159.408 \nL 125.751683 198.942545 \nL 126.417686 159.408 \nL 127.08369 175.221818 \nL 127.749694 175.221818 \nL 128.415697 183.128727 \nL 129.081701 151.501091 \nL 129.747704 151.501091 \nL 130.413708 191.035636 \nL 131.079711 175.221818 \nL 131.745715 175.221818 \nL 132.411719 191.035636 \nL 133.077722 191.035636 \nL 133.743726 135.687273 \nL 134.409729 167.314909 \nL 135.075733 191.035636 \nL 135.741736 191.035636 \nL 136.40774 183.128727 \nL 137.073744 159.408 \nL 137.739747 198.942545 \nL 138.405751 175.221818 \nL 139.071754 191.035636 \nL 139.737758 167.314909 \nL 140.403762 151.501091 \nL 141.069765 175.221818 \nL 141.735769 183.128727 \nL 142.401772 175.221818 \nL 143.067776 191.035636 \nL 143.733779 191.035636 \nL 144.399783 175.221818 \nL 145.065787 127.780364 \nL 145.73179 183.128727 \nL 146.397794 151.501091 \nL 147.063797 135.687273 \nL 147.729801 167.314909 \nL 148.395805 127.780364 \nL 149.061808 167.314909 \nL 150.393815 167.314909 \nL 151.059819 175.221818 \nL 151.725822 167.314909 \nL 152.391826 151.501091 \nL 153.05783 159.408 \nL 153.723833 151.501091 \nL 154.389837 167.314909 \nL 155.05584 167.314909 \nL 155.721844 159.408 \nL 156.387847 167.314909 \nL 157.053851 183.128727 \nL 157.719855 175.221818 \nL 159.051862 143.594182 \nL 159.717865 151.501091 \nL 161.715876 151.501091 \nL 162.38188 167.314909 \nL 163.047883 135.687273 \nL 163.713887 80.338909 \nL 164.37989 175.221818 \nL 165.045894 135.687273 \nL 165.711898 167.314909 \nL 166.377901 151.501091 \nL 167.043905 104.059636 \nL 167.709908 191.035636 \nL 168.375912 119.873455 \nL 169.041916 198.942545 \nL 169.707919 143.594182 \nL 171.039926 175.221818 \nL 171.70593 143.594182 \nL 172.371933 191.035636 \nL 173.037937 183.128727 \nL 173.703941 127.780364 \nL 174.369944 191.035636 \nL 175.035948 151.501091 \nL 175.701951 96.152727 \nL 176.367955 135.687273 \nL 177.033958 135.687273 \nL 177.699962 143.594182 \nL 178.365966 135.687273 \nL 179.031969 191.035636 \nL 179.697973 183.128727 \nL 180.363976 151.501091 \nL 181.02998 135.687273 \nL 181.695984 159.408 \nL 182.361987 167.314909 \nL 183.027991 96.152727 \nL 183.693994 167.314909 \nL 184.359998 159.408 \nL 185.026001 167.314909 \nL 185.692005 167.314909 \nL 186.358009 183.128727 \nL 187.690016 167.314909 \nL 188.356019 135.687273 \nL 189.022023 135.687273 \nL 189.688027 143.594182 \nL 190.35403 96.152727 \nL 191.020034 135.687273 \nL 191.686037 151.501091 \nL 192.352041 127.780364 \nL 193.018044 64.525091 \nL 193.684048 167.314909 \nL 194.350052 159.408 \nL 195.016055 135.687273 \nL 195.682059 159.408 \nL 196.348062 111.966545 \nL 197.014066 143.594182 \nL 197.680069 167.314909 \nL 198.346073 88.245818 \nL 199.012077 143.594182 \nL 199.67808 72.432 \nL 200.344084 127.780364 \nL 201.010087 151.501091 \nL 201.676091 159.408 \nL 202.342095 111.966545 \nL 203.008098 96.152727 \nL 203.674102 111.966545 \nL 204.340105 143.594182 \nL 205.006109 127.780364 \nL 205.672112 104.059636 \nL 206.338116 167.314909 \nL 207.00412 111.966545 \nL 208.336127 111.966545 \nL 209.00213 88.245818 \nL 209.668134 135.687273 \nL 210.334138 119.873455 \nL 211.000141 143.594182 \nL 211.666145 96.152727 \nL 212.332148 111.966545 \nL 212.998152 167.314909 \nL 213.664155 127.780364 \nL 214.330159 96.152727 \nL 215.662166 80.338909 \nL 216.32817 127.780364 \nL 216.994173 96.152727 \nL 217.660177 80.338909 \nL 218.326181 135.687273 \nL 218.992184 96.152727 \nL 219.658188 127.780364 \nL 220.324191 127.780364 \nL 220.990195 159.408 \nL 221.656198 72.432 \nL 222.322202 80.338909 \nL 222.988206 111.966545 \nL 223.654209 135.687273 \nL 224.320213 151.501091 \nL 224.986216 64.525091 \nL 226.318223 151.501091 \nL 226.984227 88.245818 \nL 227.650231 127.780364 \nL 228.316234 119.873455 \nL 229.648241 135.687273 \nL 230.314245 119.873455 \nL 230.980249 151.501091 \nL 231.646252 159.408 \nL 232.312256 111.966545 \nL 232.978259 111.966545 \nL 233.644263 119.873455 \nL 234.310266 111.966545 \nL 234.97627 159.408 \nL 235.642274 111.966545 \nL 236.308277 127.780364 \nL 236.974281 104.059636 \nL 237.640284 127.780364 \nL 238.306288 111.966545 \nL 238.972292 48.711273 \nL 239.638295 111.966545 \nL 240.304299 143.594182 \nL 240.970302 111.966545 \nL 241.636306 72.432 \nL 242.302309 104.059636 \nL 242.968313 96.152727 \nL 243.634317 96.152727 \nL 244.30032 104.059636 \nL 245.632327 151.501091 \nL 246.298331 167.314909 \nL 246.964334 143.594182 \nL 247.630338 96.152727 \nL 248.296342 64.525091 \nL 248.962345 135.687273 \nL 249.628349 72.432 \nL 250.294352 64.525091 \nL 251.62636 167.314909 \nL 252.292363 119.873455 \nL 252.958367 119.873455 \nL 253.62437 143.594182 \nL 254.290374 88.245818 \nL 255.622381 88.245818 \nL 256.288385 135.687273 \nL 256.954388 135.687273 \nL 257.620392 56.618182 \nL 258.286395 151.501091 \nL 258.952399 48.711273 \nL 259.618403 80.338909 \nL 260.284406 143.594182 \nL 260.95041 151.501091 \nL 261.616413 104.059636 \nL 262.282417 111.966545 \nL 262.94842 167.314909 \nL 264.280428 80.338909 \nL 264.946431 175.221818 \nL 265.612435 104.059636 \nL 266.278438 56.618182 \nL 266.944442 175.221818 \nL 267.610445 135.687273 \nL 268.276449 80.338909 \nL 269.608456 96.152727 \nL 270.27446 72.432 \nL 270.940463 151.501091 \nL 271.606467 111.966545 \nL 272.272471 143.594182 \nL 272.938474 56.618182 \nL 273.604478 88.245818 \nL 274.936485 167.314909 \nL 275.602488 143.594182 \nL 276.268492 88.245818 \nL 276.934496 104.059636 \nL 277.600499 111.966545 \nL 278.266503 143.594182 \nL 278.932506 64.525091 \nL 279.59851 167.314909 \nL 280.264514 127.780364 \nL 280.930517 104.059636 \nL 281.596521 135.687273 \nL 282.262524 119.873455 \nL 282.928528 143.594182 \nL 284.260535 96.152727 \nL 284.926539 119.873455 \nL 285.592542 17.083636 \nL 286.258546 119.873455 \nL 286.924549 96.152727 \nL 287.590553 80.338909 \nL 288.256556 111.966545 \nL 288.92256 151.501091 \nL 289.588564 135.687273 \nL 290.254567 72.432 \nL 290.920571 151.501091 \nL 292.252578 88.245818 \nL 292.918582 119.873455 \nL 293.584585 143.594182 \nL 294.250589 151.501091 \nL 294.916592 111.966545 \nL 295.582596 96.152727 \nL 296.248599 64.525091 \nL 296.914603 111.966545 \nL 297.580607 88.245818 \nL 298.24661 80.338909 \nL 298.912614 111.966545 \nL 299.578617 111.966545 \nL 300.244621 64.525091 \nL 300.910625 56.618182 \nL 301.576628 119.873455 \nL 302.242632 64.525091 \nL 302.908635 104.059636 \nL 303.574639 64.525091 \nL 304.240642 135.687273 \nL 304.906646 127.780364 \nL 305.57265 56.618182 \nL 306.238653 17.083636 \nL 306.904657 48.711273 \nL 307.57066 119.873455 \nL 308.236664 48.711273 \nL 308.902667 104.059636 \nL 309.568671 56.618182 \nL 310.234675 104.059636 \nL 310.900678 64.525091 \nL 311.566682 151.501091 \nL 312.232685 48.711273 \nL 312.898689 119.873455 \nL 313.564693 159.408 \nL 314.230696 127.780364 \nL 314.8967 72.432 \nL 315.562703 175.221818 \nL 316.228707 40.804364 \nL 316.89471 111.966545 \nL 317.560714 56.618182 \nL 318.226718 135.687273 \nL 318.892721 72.432 \nL 319.558725 111.966545 \nL 321.556736 111.966545 \nL 322.222739 64.525091 \nL 322.888743 64.525091 \nL 323.554746 48.711273 \nL 324.22075 127.780364 \nL 325.552757 64.525091 \nL 326.218761 135.687273 \nL 326.884764 167.314909 \nL 327.550768 56.618182 \nL 328.216771 72.432 \nL 328.882775 72.432 \nL 329.548778 96.152727 \nL 330.214782 111.966545 \nL 330.880786 72.432 \nL 331.546789 48.711273 \nL 332.212793 191.035636 \nL 332.878796 64.525091 \nL 333.5448 88.245818 \nL 334.210804 56.618182 \nL 334.876807 111.966545 \nL 335.542811 64.525091 \nL 336.208814 111.966545 \nL 336.874818 40.804364 \nL 337.540821 56.618182 \nL 338.206825 24.990545 \nL 338.872829 72.432 \nL 339.538832 96.152727 \nL 340.204836 32.897455 \nL 340.870839 48.711273 \nL 341.536843 104.059636 \nL 342.202847 111.966545 \nL 342.86885 80.338909 \nL 343.534854 119.873455 \nL 344.200857 143.594182 \nL 344.866861 88.245818 \nL 345.532864 56.618182 \nL 346.198868 111.966545 \nL 346.864872 56.618182 \nL 347.530875 104.059636 \nL 348.196879 64.525091 \nL 348.862882 32.897455 \nL 349.528886 24.990545 \nL 350.194889 64.525091 \nL 350.860893 80.338909 \nL 351.526897 167.314909 \nL 352.1929 72.432 \nL 352.858904 48.711273 \nL 353.524907 48.711273 \nL 354.190911 104.059636 \nL 354.856915 96.152727 \nL 355.522918 72.432 \nL 356.188922 111.966545 \nL 356.854925 80.338909 \nL 357.520929 111.966545 \nL 358.186932 80.338909 \nL 358.852936 40.804364 \nL 359.51894 64.525091 \nL 360.184943 64.525091 \nL 360.184943 64.525091 \n\" style=\"fill:none;stroke:#1f77b4;stroke-linecap:square;stroke-width:1.5;\"/>\n   </g>\n   <g id=\"patch_3\">\n    <path d=\"M 40.603125 224.64 \nL 40.603125 7.2 \n\" style=\"fill:none;stroke:#000000;stroke-linecap:square;stroke-linejoin:miter;stroke-width:0.8;\"/>\n   </g>\n   <g id=\"patch_4\">\n    <path d=\"M 375.403125 224.64 \nL 375.403125 7.2 \n\" style=\"fill:none;stroke:#000000;stroke-linecap:square;stroke-linejoin:miter;stroke-width:0.8;\"/>\n   </g>\n   <g id=\"patch_5\">\n    <path d=\"M 40.603125 224.64 \nL 375.403125 224.64 \n\" style=\"fill:none;stroke:#000000;stroke-linecap:square;stroke-linejoin:miter;stroke-width:0.8;\"/>\n   </g>\n   <g id=\"patch_6\">\n    <path d=\"M 40.603125 7.2 \nL 375.403125 7.2 \n\" style=\"fill:none;stroke:#000000;stroke-linecap:square;stroke-linejoin:miter;stroke-width:0.8;\"/>\n   </g>\n  </g>\n </g>\n <defs>\n  <clipPath id=\"p6314f9ca4c\">\n   <rect height=\"217.44\" width=\"334.8\" x=\"40.603125\" y=\"7.2\"/>\n  </clipPath>\n </defs>\n</svg>\n",
      "text/plain": "<Figure size 432x288 with 1 Axes>"
     },
     "metadata": {
      "needs_background": "light"
     },
     "output_type": "display_data"
    }
   ],
   "source": [
    "# plot the scores\n",
    "fig = plt.figure()\n",
    "ax = fig.add_subplot(111)\n",
    "plt.plot(np.arange(len(scores)), scores)\n",
    "plt.ylabel('Score')\n",
    "plt.xlabel('Episodes')\n",
    "plt.show()"
   ]
  },
  {
   "cell_type": "markdown",
   "execution_count": null,
   "metadata": {},
   "outputs": [],
   "source": [
    "### 5. Discussion on the result\n",
    "\n",
    "The picture above shows how the DDQN was trained in 358 episodes. The DDQN is unstable with the hyper parameters used in this training. The scores are fluctuating continously. The hyper parameters can be the source of unstability, however, this can be improved by using other types of algorithms such as Priority Experience Replay instead of normal ReplayBuffer used in this project.\n",
    "\n",
    "### 6. Replay the best agent"
   ]
  },
  {
   "cell_type": "code",
   "execution_count": 13,
   "metadata": {},
   "outputs": [
    {
     "name": "stdout",
     "output_type": "stream",
     "text": "11.0\n"
    }
   ],
   "source": [
    "agent.qnetwork_local.load_state_dict(torch.load('checkpoint.pth', map_location='cpu'))\n",
    "\n",
    "env_info = env.reset(train_mode=True)[brain_name]# reset the environment\n",
    "state = env_info.vector_observations[0]            # get the current state\n",
    "score = 0                                          # initialize the score\n",
    "\n",
    "while True:\n",
    "    action = agent.act(state)                 # select an action\n",
    "    env_info = env.step(action)[brain_name]        # send the action to the environment\n",
    "    next_state = env_info.vector_observations[0]   # get the next state\n",
    "    reward = env_info.rewards[0]                   # get the reward\n",
    "    done = env_info.local_done[0]                  # see if episode has finished\n",
    "    agent.step(state, action, reward, next_state, done)\n",
    "    score += reward                                # update the score\n",
    "    state = next_state                             # roll over the state to next time step\n",
    "    if done:                                       # exit loop if episode finished\n",
    "        break\n",
    "print(score)"
   ]
  },
  {
   "cell_type": "code",
   "execution_count": 14,
   "metadata": {},
   "outputs": [],
   "source": [
    " env.close()"
   ]
  },
  {
   "cell_type": "code",
   "execution_count": null,
   "metadata": {},
   "outputs": [],
   "source": []
  }
 ],
 "metadata": {
  "kernelspec": {
   "display_name": "drlnd",
   "language": "python",
   "name": "drlnd"
  },
  "language_info": {
   "codemirror_mode": {
    "name": "ipython",
    "version": 3
   },
   "file_extension": ".py",
   "mimetype": "text/x-python",
   "name": "python",
   "nbconvert_exporter": "python",
   "pygments_lexer": "ipython3",
   "version": "3.6.9"
  }
 },
 "nbformat": 4,
 "nbformat_minor": 2
}